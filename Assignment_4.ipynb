{
 "cells": [
  {
   "cell_type": "markdown",
   "id": "671da871-a280-4bd3-b55f-efee6ba08da0",
   "metadata": {},
   "source": [
    "# 1. What exactly is []?"
   ]
  },
  {
   "cell_type": "markdown",
   "id": "7552452c-fb32-4a05-bdd9-b735ba5b17c1",
   "metadata": {},
   "source": [
    "#### In Python, [] is used to denote an empty list, which is a built-in data structure that can store an ordered collection of objects."
   ]
  },
  {
   "cell_type": "markdown",
   "id": "39f29b48-ebaf-4892-ba1d-6673662a1959",
   "metadata": {},
   "source": [
    "# 2. In a list of values stored in a variable called spam, how would you assign the value &#39;hello&#39; as the third value?\n",
    "### (Assume [2, 4, 6, 8, 10] are in spam.)\n"
   ]
  },
  {
   "cell_type": "code",
   "execution_count": 2,
   "id": "b8822d9a-b87b-4b4d-b1fa-0b16ff7664d1",
   "metadata": {},
   "outputs": [],
   "source": [
    "spam = [2, 4, 6, 8, 10]"
   ]
  },
  {
   "cell_type": "code",
   "execution_count": 3,
   "id": "98ad0e3b-fee4-42ad-a63a-cdae10e4b7e4",
   "metadata": {},
   "outputs": [],
   "source": [
    "spam[2] = 'hello'"
   ]
  },
  {
   "cell_type": "code",
   "execution_count": 4,
   "id": "fb70ecd6-4f5d-472b-b999-c829bd9950e6",
   "metadata": {},
   "outputs": [
    {
     "data": {
      "text/plain": [
       "[2, 4, 'hello', 8, 10]"
      ]
     },
     "execution_count": 4,
     "metadata": {},
     "output_type": "execute_result"
    }
   ],
   "source": [
    "spam"
   ]
  },
  {
   "cell_type": "markdown",
   "id": "2c4c4167-2b76-411e-99c1-76b3db77d528",
   "metadata": {},
   "source": [
    "Let&#39;s pretend the spam includes the list [&#39;a&#39;, &#39;b&#39;, &#39;c&#39;, &#39;d&#39;] for the next three queries."
   ]
  },
  {
   "cell_type": "code",
   "execution_count": 5,
   "id": "0118e247-376b-4fe5-8ef5-1af1930c0f78",
   "metadata": {},
   "outputs": [],
   "source": [
    "spam = ['a', 'b', 'c', 'd']"
   ]
  },
  {
   "cell_type": "markdown",
   "id": "c17cadd6-5b4a-4f0d-bed1-bb63b5e78614",
   "metadata": {},
   "source": [
    "# 3. What is the value of spam[int(int(&#39;3&#39; * 2) / 11)]?"
   ]
  },
  {
   "cell_type": "code",
   "execution_count": 11,
   "id": "3bba9380-a4b6-4c20-962c-22f1faf8c94f",
   "metadata": {},
   "outputs": [
    {
     "data": {
      "text/plain": [
       "'d'"
      ]
     },
     "execution_count": 11,
     "metadata": {},
     "output_type": "execute_result"
    }
   ],
   "source": [
    "spam[int(int('3' * 2) / 11)]"
   ]
  },
  {
   "cell_type": "markdown",
   "id": "7aa8c034-d797-4179-b4e1-5d1dfe613942",
   "metadata": {},
   "source": [
    "# 4. What is the value of spam[-1]?"
   ]
  },
  {
   "cell_type": "code",
   "execution_count": 12,
   "id": "8d482450-3491-4042-b654-9b4934fd0eb8",
   "metadata": {},
   "outputs": [
    {
     "data": {
      "text/plain": [
       "'d'"
      ]
     },
     "execution_count": 12,
     "metadata": {},
     "output_type": "execute_result"
    }
   ],
   "source": [
    "spam[-1]"
   ]
  },
  {
   "cell_type": "markdown",
   "id": "4c619f5f-126b-46f4-bf2a-ca4a2682d554",
   "metadata": {},
   "source": [
    "# 5. What is the value of spam[:2]?\n",
    "\n"
   ]
  },
  {
   "cell_type": "code",
   "execution_count": 13,
   "id": "93054ce8-1dcb-4d67-8c3d-e4617031d138",
   "metadata": {},
   "outputs": [
    {
     "data": {
      "text/plain": [
       "['a', 'b']"
      ]
     },
     "execution_count": 13,
     "metadata": {},
     "output_type": "execute_result"
    }
   ],
   "source": [
    "spam[:2]"
   ]
  },
  {
   "cell_type": "markdown",
   "id": "8e10a6b9-a74c-4db7-b49c-e8e123c2746d",
   "metadata": {},
   "source": [
    "Let&#39;s pretend bacon has the list [3.14, &#39;cat,&#39; 11, &#39;cat,&#39; True] for the next three questions."
   ]
  },
  {
   "cell_type": "code",
   "execution_count": 2,
   "id": "31be7ea5-3a59-49a7-8fda-d4b4afcf3092",
   "metadata": {},
   "outputs": [],
   "source": [
    "bacon = [3.14, 'cat', 11, 'cat', True]"
   ]
  },
  {
   "cell_type": "markdown",
   "id": "10dac015-3d9a-49b7-880f-dc0e5ab7620f",
   "metadata": {},
   "source": [
    "# 6. What is the value of bacon.index(&#39;cat&#39;)?"
   ]
  },
  {
   "cell_type": "code",
   "execution_count": 3,
   "id": "387a1de8-2a21-4be5-85f2-f7e223bd5aa5",
   "metadata": {},
   "outputs": [
    {
     "data": {
      "text/plain": [
       "1"
      ]
     },
     "execution_count": 3,
     "metadata": {},
     "output_type": "execute_result"
    }
   ],
   "source": [
    "bacon.index('cat')"
   ]
  },
  {
   "cell_type": "markdown",
   "id": "2969c78f-7dfb-4acd-90d3-5abd83d47f8b",
   "metadata": {},
   "source": [
    "# 7. How does bacon.append(99) change the look of the list value in bacon?"
   ]
  },
  {
   "cell_type": "code",
   "execution_count": 4,
   "id": "27e499ea-151e-48ab-ace3-0266ff25b9f2",
   "metadata": {},
   "outputs": [],
   "source": [
    "bacon.append(99)"
   ]
  },
  {
   "cell_type": "code",
   "execution_count": 5,
   "id": "924f2e13-dcf4-441a-943b-e7e9bf9950ff",
   "metadata": {},
   "outputs": [
    {
     "data": {
      "text/plain": [
       "[3.14, 'cat', 11, 'cat', True, 99]"
      ]
     },
     "execution_count": 5,
     "metadata": {},
     "output_type": "execute_result"
    }
   ],
   "source": [
    "bacon"
   ]
  },
  {
   "cell_type": "markdown",
   "id": "a68c63f3-1fdc-4ae7-bc57-3905cc9cefdc",
   "metadata": {},
   "source": [
    "# 8. How does bacon.remove(&#39;cat&#39;) change the look of the list in bacon?"
   ]
  },
  {
   "cell_type": "code",
   "execution_count": 6,
   "id": "d8509057-7881-46e5-9258-d69aea2b4a1f",
   "metadata": {},
   "outputs": [],
   "source": [
    "bacon.remove('cat')"
   ]
  },
  {
   "cell_type": "code",
   "execution_count": 7,
   "id": "240b6f19-7a6d-4c86-aa5e-6644a61f704d",
   "metadata": {},
   "outputs": [
    {
     "data": {
      "text/plain": [
       "[3.14, 11, 'cat', True, 99]"
      ]
     },
     "execution_count": 7,
     "metadata": {},
     "output_type": "execute_result"
    }
   ],
   "source": [
    "bacon"
   ]
  },
  {
   "cell_type": "markdown",
   "id": "04b1a652-313a-4dec-b889-514bf942b72b",
   "metadata": {},
   "source": [
    "# 9. What are the list concatenation and list replication operators?"
   ]
  },
  {
   "cell_type": "markdown",
   "id": "ba713be4-228a-4372-b76d-8e070999d89a",
   "metadata": {},
   "source": [
    "#### In Python, the list concatenation operator is '+', and the list replication operator is '*'."
   ]
  },
  {
   "cell_type": "markdown",
   "id": "02fb4152-f093-4499-be23-244ecde2060c",
   "metadata": {},
   "source": [
    "# 10. What is difference between the list methods append() and insert()?"
   ]
  },
  {
   "cell_type": "markdown",
   "id": "4e41c792-0acf-4061-89b4-63ebf216ff31",
   "metadata": {},
   "source": [
    " #### The main difference between append() and insert() is that append() adds an element to the end of the list, while insert() adds an element to a specific position in the list."
   ]
  },
  {
   "cell_type": "markdown",
   "id": "e2ca7353-de01-4283-a3ed-4dd55fe01786",
   "metadata": {},
   "source": [
    "# 11. What are the two methods for removing items from a list?"
   ]
  },
  {
   "cell_type": "markdown",
   "id": "5325098d-ac91-409b-a86e-9a60c43da628",
   "metadata": {},
   "source": [
    "#### \"pop()\" & \"remove()\" are the two methods for removing items from a list."
   ]
  },
  {
   "cell_type": "markdown",
   "id": "8d9edaee-3f38-43e1-b8fc-7c865c37bd6e",
   "metadata": {},
   "source": [
    "# 12. Describe how list values and string values are identical."
   ]
  },
  {
   "cell_type": "markdown",
   "id": "a78a5466-b8fb-455e-b051-a60d640d4362",
   "metadata": {},
   "source": [
    "#### 1. Both lists and strings are ordered sequences:\n",
    "#### Both lists and strings are ordered sequences of elements, which means that the elements in them are stored in a specific order, and you can access them using their index values. For example, in a list my_list = [1, 2, 3], the element 1 is at index 0, 2 is at index 1, and so on. Similarly, in a string my_string = \"hello\", the character \"h\" is at index 0, \"e\" is at index 1, and so on.\n",
    "\n",
    "#### 2. Both lists and strings are iterable:\n",
    "#### Both lists and strings are iterable, which means that you can use a for loop to iterate over their elements one by one.\n",
    "\n",
    "#### 3. Both lists and strings can be sliced:\n",
    "#### Both lists and strings can be sliced, which means that you can extract a subset of their elements using a slice notation."
   ]
  },
  {
   "cell_type": "markdown",
   "id": "228acbde-92af-452f-98e0-050f9cabba08",
   "metadata": {},
   "source": [
    "# 13. What&#39;s the difference between tuples and lists?"
   ]
  },
  {
   "cell_type": "markdown",
   "id": "1ba0512a-2996-4538-b138-ebfb0f39cbd3",
   "metadata": {},
   "source": [
    "#### In Python, lists and tuples are both used to store collections of items, but the main difference between them is that lists are mutable (can be changed), whereas tuples are immutable (cannot be changed). Additionally, lists are defined using square brackets [], while tuples are defined using parentheses ()."
   ]
  },
  {
   "cell_type": "markdown",
   "id": "095f0be3-5e62-482b-b161-8fc7cf669122",
   "metadata": {},
   "source": [
    "# 14. How do you type a tuple value that only contains the integer 42?"
   ]
  },
  {
   "cell_type": "code",
   "execution_count": 8,
   "id": "5e6b509e-c8e3-41e3-9e3b-431f0b26865e",
   "metadata": {},
   "outputs": [],
   "source": [
    "tuplle = (42,)"
   ]
  },
  {
   "cell_type": "markdown",
   "id": "83e7164b-5625-4798-ab8b-df43dbba7be9",
   "metadata": {},
   "source": [
    "#### create a tuple value that only contains the integer 42, you can enclose the integer value in parentheses \"()\".\n",
    "#### Note that the comma after the integer value is necessary to differentiate a tuple with a single element from an integer in parentheses. This is because in Python, parentheses can also be used to define order of operations in mathematical expressions, so the comma is used to indicate that this is a tuple with a single element.\n"
   ]
  },
  {
   "cell_type": "markdown",
   "id": "be44a0ed-6793-43ca-8be7-3009084e4e36",
   "metadata": {},
   "source": [
    "# 15. How do you get a list value&#39;s tuple form? How do you get a tuple value&#39;s list form?"
   ]
  },
  {
   "cell_type": "markdown",
   "id": "6fafb74d-d3f5-4247-b8dd-fd5e7cc63b4b",
   "metadata": {},
   "source": [
    "#### The tuple() and list() functions, respectively"
   ]
  },
  {
   "cell_type": "markdown",
   "id": "ee7f5406-7d2c-4e95-98ed-4d3c18ca25d5",
   "metadata": {},
   "source": [
    "# 16. Variables that &quot;contain&quot; list values are not necessarily lists themselves. Instead, what do they contain?"
   ]
  },
  {
   "cell_type": "markdown",
   "id": "58f1a121-7d4f-48e8-bb37-a2dc7d0374b0",
   "metadata": {},
   "source": [
    "#### They contain references to list values."
   ]
  },
  {
   "cell_type": "markdown",
   "id": "e34cabab-7762-4d48-b96e-c76fce7c1917",
   "metadata": {},
   "source": [
    "# 17. How do you distinguish between copy.copy() and copy.deepcopy()?"
   ]
  },
  {
   "cell_type": "markdown",
   "id": "0ce8f653-8b7a-4ffe-af99-d306c5f64787",
   "metadata": {},
   "source": [
    "#### The copy.copy() function will do a shallow copy of a list, while the copy.deepcopy() function will do a deep copy of a list. That is, only copy.deepcopy() will duplicate any lists inside the list."
   ]
  }
 ],
 "metadata": {
  "kernelspec": {
   "display_name": "Python 3 (ipykernel)",
   "language": "python",
   "name": "python3"
  },
  "language_info": {
   "codemirror_mode": {
    "name": "ipython",
    "version": 3
   },
   "file_extension": ".py",
   "mimetype": "text/x-python",
   "name": "python",
   "nbconvert_exporter": "python",
   "pygments_lexer": "ipython3",
   "version": "3.10.6"
  }
 },
 "nbformat": 4,
 "nbformat_minor": 5
}
