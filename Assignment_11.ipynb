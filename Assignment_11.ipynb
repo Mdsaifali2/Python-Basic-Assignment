{
 "cells": [
  {
   "cell_type": "markdown",
   "id": "fa4b0863-1b85-4c7b-b83a-d6a55ab6438f",
   "metadata": {},
   "source": [
    "# 1. Create an assert statement that throws an AssertionError if the variable spam is a negative integer."
   ]
  },
  {
   "cell_type": "markdown",
   "id": "3eba3ffa-f612-4b40-a013-29a806247317",
   "metadata": {},
   "source": [
    "#### Here's an example of an assert statement that throws an AssertionError if the variable spam is a negative integer:"
   ]
  },
  {
   "cell_type": "code",
   "execution_count": 16,
   "id": "7099afe4-e279-4c57-89e7-2425ac101cdf",
   "metadata": {},
   "outputs": [
    {
     "ename": "AssertionError",
     "evalue": "spam should be a non-negative integer",
     "output_type": "error",
     "traceback": [
      "\u001b[0;31m---------------------------------------------------------------------------\u001b[0m",
      "\u001b[0;31mAssertionError\u001b[0m                            Traceback (most recent call last)",
      "Cell \u001b[0;32mIn [16], line 2\u001b[0m\n\u001b[1;32m      1\u001b[0m spam \u001b[38;5;241m=\u001b[39m \u001b[38;5;241m-\u001b[39m\u001b[38;5;241m10\u001b[39m\n\u001b[0;32m----> 2\u001b[0m \u001b[38;5;28;01massert\u001b[39;00m spam \u001b[38;5;241m>\u001b[39m\u001b[38;5;241m=\u001b[39m \u001b[38;5;241m0\u001b[39m, \u001b[38;5;124m'\u001b[39m\u001b[38;5;124mspam should be a non-negative integer\u001b[39m\u001b[38;5;124m'\u001b[39m\n",
      "\u001b[0;31mAssertionError\u001b[0m: spam should be a non-negative integer"
     ]
    }
   ],
   "source": [
    "spam = -10\n",
    "assert spam >= 0, 'spam should be a non-negative integer'"
   ]
  },
  {
   "cell_type": "markdown",
   "id": "ad6abbd0-fc5b-4602-896f-846ceafe3d92",
   "metadata": {},
   "source": [
    "# 2. Write an assert statement that triggers an AssertionError if the variables eggs and bacon contain strings that are the same as each other, even if their cases are different (that is, &#39;hello&#39; and &#39;hello&#39; are considered the same, and &#39;goodbye&#39; and &#39;GOODbye&#39; are also considered the same)."
   ]
  },
  {
   "cell_type": "markdown",
   "id": "04eb9b3b-bf60-4702-9e57-e4ccd52913cb",
   "metadata": {},
   "source": [
    "#### Either assert eggs.lower() != bacon.lower() 'The eggs and bacon variables are the same!' or assert eggs.upper() != bacon.upper(), 'The eggs and bacon variables are the same!'"
   ]
  },
  {
   "cell_type": "code",
   "execution_count": 22,
   "id": "e562e070-547b-40e3-8b11-c5357941d105",
   "metadata": {},
   "outputs": [
    {
     "ename": "AssertionError",
     "evalue": "",
     "output_type": "error",
     "traceback": [
      "\u001b[0;31m---------------------------------------------------------------------------\u001b[0m",
      "\u001b[0;31mAssertionError\u001b[0m                            Traceback (most recent call last)",
      "Cell \u001b[0;32mIn [22], line 4\u001b[0m\n\u001b[1;32m      1\u001b[0m eggs \u001b[38;5;241m=\u001b[39m \u001b[38;5;124m'\u001b[39m\u001b[38;5;124mhello\u001b[39m\u001b[38;5;124m'\u001b[39m\n\u001b[1;32m      2\u001b[0m bacon \u001b[38;5;241m=\u001b[39m \u001b[38;5;124m'\u001b[39m\u001b[38;5;124mhello\u001b[39m\u001b[38;5;124m'\u001b[39m\n\u001b[0;32m----> 4\u001b[0m \u001b[38;5;28;01massert\u001b[39;00m eggs\u001b[38;5;241m.\u001b[39mlower()\u001b[38;5;241m!=\u001b[39mbacon\u001b[38;5;241m.\u001b[39mlower()\n",
      "\u001b[0;31mAssertionError\u001b[0m: "
     ]
    }
   ],
   "source": [
    "eggs = 'hello'\n",
    "bacon = 'hello'\n",
    "\n",
    "assert eggs.lower()!=bacon.lower()"
   ]
  },
  {
   "cell_type": "markdown",
   "id": "6cff1807-4241-493d-b851-8063656f140f",
   "metadata": {},
   "source": [
    "# 3. Create an assert statement that throws an AssertionError every time.\n"
   ]
  },
  {
   "cell_type": "markdown",
   "id": "51044862-3d3e-4c33-8404-447510ef6bc9",
   "metadata": {},
   "source": [
    "#### assert False 'This assertion always triggers.'"
   ]
  },
  {
   "cell_type": "markdown",
   "id": "8ac83288-bbca-4085-be2f-742e80f6bf85",
   "metadata": {},
   "source": [
    "# 4. What are the two lines that must be present in your software in order to call # logging.debug()?\n"
   ]
  },
  {
   "cell_type": "markdown",
   "id": "edd35bd0-cf30-4306-8381-4c81c2c0ba44",
   "metadata": {},
   "source": [
    "##### To use the logging.debug() method, the following two lines must be present at the starting of your every code:\n",
    "#### import logging\n",
    "#### logging.basicConfig(level=logging.DEBUG, format=' %(asctime)s - %(levelname)s - %(message)s')"
   ]
  },
  {
   "cell_type": "markdown",
   "id": "fecb34b2-e26a-4124-82f0-d67a53f540f3",
   "metadata": {},
   "source": [
    "# 5. What are the two lines that your program must have in order to have logging.debug() send a logging message to a file named programLog.txt?\n"
   ]
  },
  {
   "cell_type": "markdown",
   "id": "b7dfd903-11eb-4a39-b03d-de67d34c3c69",
   "metadata": {},
   "source": [
    "#### To send logging messages to a file named programLog.txt with logging.debug(), you must have these two lines at the start of your program:\n",
    "#### import logging\n",
    "#### logging.basicConfig(level=logging.DEBUG, format=' %(asctime)s - %(levelname)s - %(message)s')"
   ]
  },
  {
   "cell_type": "markdown",
   "id": "c40da32e-bfd8-4482-8ec0-a9cb510eb54b",
   "metadata": {},
   "source": [
    "# 6. What are the five levels of logging?\n"
   ]
  },
  {
   "cell_type": "markdown",
   "id": "9ed27589-a0e7-4589-aa66-13a9bd18f18e",
   "metadata": {},
   "source": [
    "#### The logging module in Python provides five levels of severity (from lowest to highest) that can be used for logging messages:\n",
    "\n",
    "#### DEBUG: Detailed information, typically of interest only when diagnosing problems.\n",
    "#### INFO: Confirmation that things are working as expected.\n",
    "#### WARNING: An indication that something unexpected or undesirable has happened, or indicative of some problem in the near future (e.g., ‘disk space low’). The software is still working as expected.\n",
    "#### ERROR: Due to a more serious problem, the software has not been able to perform some function.\n",
    "#### CRITICAL: A very serious error, indicating that the program itself may be unable to continue running."
   ]
  },
  {
   "cell_type": "markdown",
   "id": "193c8418-9c2b-4141-baa7-1ebf6d908645",
   "metadata": {},
   "source": [
    "# 7. What line of code would you add to your software to disable all logging messages?\n"
   ]
  },
  {
   "cell_type": "markdown",
   "id": "15c363b2-8175-4caa-99ff-0cbd3d524a95",
   "metadata": {},
   "source": [
    "#### To disable all logging messages in your software, we can use the following line of code:\n",
    "#### logging.disable(logging.CRITICAL)"
   ]
  },
  {
   "cell_type": "markdown",
   "id": "d8d28ae0-1707-4e11-982a-e9afa98d9ada",
   "metadata": {},
   "source": [
    "# 8.Why is using logging messages better than using print() to display the same message?\n"
   ]
  },
  {
   "cell_type": "markdown",
   "id": "c5087a8c-678f-4883-a367-184dff0cc7fe",
   "metadata": {},
   "source": [
    "#### Logging messages is generally better than using print() to display messages for a few reasons:\n",
    "#### Configurability: With the logging module, you can configure the behavior of your logging messages at runtime. For example, you can change the logging level or format without modifying your code.\n",
    "#### Granularity: The logging module provides several levels of logging, such as DEBUG, INFO, WARNING, ERROR, and CRITICAL. This allows you to log messages with different levels of severity, which can be useful for debugging complex systems or identifying issues.\n",
    "#### Flexibility: You can customize the format of your logging messages using the logging module. This allows you to include additional information in your logs, such as timestamps or the name of the function that generated the log message.\n",
    "#### Thread-safety: The logging module is thread-safe, meaning that it can be used in multi-threaded applications without causing race conditions or other synchronization issues. This is not always the case with print() statements, which can lead to unexpected behavior in multi-threaded applications."
   ]
  },
  {
   "cell_type": "markdown",
   "id": "2c1cbec2-031c-47bf-8df4-f0146c953640",
   "metadata": {},
   "source": [
    "# 9. What are the differences between the Step Over, Step In, and Step Out buttons in the debugger?\n"
   ]
  },
  {
   "cell_type": "markdown",
   "id": "9cde8b2d-801c-4511-a8f5-122c446227d9",
   "metadata": {},
   "source": [
    "#### Step Over allows you to execute code line by line without going into functions, Step In allows you to step into functions and execute their code line by line, and Step Out allows you to execute the rest of the lines in the current function and return to the calling line of code."
   ]
  },
  {
   "cell_type": "markdown",
   "id": "df673324-1127-4390-82c7-df9e5459083f",
   "metadata": {},
   "source": [
    "# 10. After you click Continue, when will the debugger stop ?\n"
   ]
  },
  {
   "cell_type": "markdown",
   "id": "9b0a3833-445d-45fe-b85e-60782800d734",
   "metadata": {},
   "source": [
    "#### After you click Continue, the debugger will stop when it has reached the end of the program or a line with a breakpoint."
   ]
  },
  {
   "cell_type": "markdown",
   "id": "d233d85b-b5a2-4cec-8a35-92bb9db145db",
   "metadata": {},
   "source": [
    "# 11. What is the concept of a breakpoint?"
   ]
  },
  {
   "cell_type": "markdown",
   "id": "b4730136-8458-45bd-a4d6-7c7cc4919e2d",
   "metadata": {},
   "source": [
    "#### A breakpoint is a tool used by developers to pause the execution of a program at a specific point. It allows them to examine the state of the program, such as variable values, and step through code one line at a time to understand how it is running. \n",
    "#### For example, suppose you are working on a Python program that calculates the average of a list of numbers. You suspect that the program is not working correctly, so you want to use a breakpoint to pause the program and examine the list of numbers to make sure they are being processed correctly. You could place a breakpoint at the beginning of the loop that processes the list, run the program in debug mode, and step through the code one line at a time until the program pauses at the breakpoint. You can then examine the list of numbers and the program state to identify any issues."
   ]
  }
 ],
 "metadata": {
  "kernelspec": {
   "display_name": "Python 3 (ipykernel)",
   "language": "python",
   "name": "python3"
  },
  "language_info": {
   "codemirror_mode": {
    "name": "ipython",
    "version": 3
   },
   "file_extension": ".py",
   "mimetype": "text/x-python",
   "name": "python",
   "nbconvert_exporter": "python",
   "pygments_lexer": "ipython3",
   "version": "3.10.6"
  }
 },
 "nbformat": 4,
 "nbformat_minor": 5
}
