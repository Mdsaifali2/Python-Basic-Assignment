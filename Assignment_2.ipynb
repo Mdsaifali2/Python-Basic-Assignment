{
 "cells": [
  {
   "cell_type": "markdown",
   "id": "76cff185",
   "metadata": {},
   "source": [
    "# 1. What are the two values of the Boolean data type? How do you write them?"
   ]
  },
  {
   "cell_type": "markdown",
   "id": "f046b462-01b1-45dc-aef9-4b5964795574",
   "metadata": {},
   "source": [
    "##### he Boolean data type in Python represents a logical value that can be either True or False. These are the only two possible values for a Boolean data type.\n",
    "##### n Python, the values True and False are keywords that represent the two Boolean values. They are written exactly as shown, with the first letter capitalized and the rest of the letters in lowercase."
   ]
  },
  {
   "cell_type": "code",
   "execution_count": 1,
   "id": "10f81cdc",
   "metadata": {},
   "outputs": [
    {
     "name": "stdout",
     "output_type": "stream",
     "text": [
      "x is true\n",
      "y is false\n"
     ]
    }
   ],
   "source": [
    "x = True\n",
    "y = False\n",
    "\n",
    "if x:\n",
    "    print(\"x is true\")\n",
    "\n",
    "if not y:\n",
    "    print(\"y is false\")"
   ]
  },
  {
   "cell_type": "markdown",
   "id": "03e76aae-82da-43c8-850b-fffb5c805430",
   "metadata": {},
   "source": [
    "##### In the above example, x is assigned the value True and y is assigned the value False. The first if statement checks if x is true, which it is, so the message \"x is true\" is printed. The second if statement checks if y is false, which it is, so the message \"y is false\" is printed."
   ]
  },
  {
   "cell_type": "markdown",
   "id": "4568842b",
   "metadata": {},
   "source": [
    "# 2. What are the three different types of Boolean operators?"
   ]
  },
  {
   "cell_type": "markdown",
   "id": "e7d1a70a-d207-4685-b09f-51724e2b8ad2",
   "metadata": {},
   "source": [
    "##### -->  AND : The and operator returns True if both operands are True, and False otherwise. It can be used to check if multiple conditions are all true.\n",
    "##### -->  OR : The or operator returns True if at least one of the operands is True, and False otherwise. It can be used to check if any of several conditions are true.\n",
    "##### -->  NOT : The not operator returns True if the operand is False, and False if the operand is True. It can be used to negate a Boolean expression."
   ]
  },
  {
   "cell_type": "markdown",
   "id": "12fb57a8",
   "metadata": {},
   "source": [
    "# 3. Make a list of each Boolean operator&#39;s truth tables (i.e. every possible combination of Boolean\n",
    "# values for the operator and what it evaluate )."
   ]
  },
  {
   "cell_type": "markdown",
   "id": "4e61e803-d1ce-4945-8e02-e02ea19f1d38",
   "metadata": {},
   "source": [
    "##### True and True is True.\n",
    "##### True and False is False.\n",
    "##### False and True is False.\n",
    "##### False and False is False.\n",
    "##### True or True is True.\n",
    "##### True or False is True.\n",
    "##### False or True is True.\n",
    "##### False or False is False.\n",
    "##### not True is False.\n",
    "##### not False is True."
   ]
  },
  {
   "cell_type": "markdown",
   "id": "3e40f3a5",
   "metadata": {},
   "source": [
    "# 4. What are the values of the following expressions?\n",
    "\n",
    "# (5 &gt; 4) and (3 == 5)\n",
    "# not (5 &gt; 4)\n",
    "# (5 &gt; 4) or (3 == 5)\n",
    "# not ((5 &gt; 4) or (3 == 5))\n",
    "# (True and True) and (True == False)\n",
    "# (not False) or (not True)\n"
   ]
  },
  {
   "cell_type": "code",
   "execution_count": 4,
   "id": "1e8a4985",
   "metadata": {},
   "outputs": [
    {
     "data": {
      "text/plain": [
       "False"
      ]
     },
     "execution_count": 4,
     "metadata": {},
     "output_type": "execute_result"
    }
   ],
   "source": [
    "(5 > 4) and (3 == 5)"
   ]
  },
  {
   "cell_type": "code",
   "execution_count": 5,
   "id": "bfc0e8ab",
   "metadata": {},
   "outputs": [
    {
     "data": {
      "text/plain": [
       "False"
      ]
     },
     "execution_count": 5,
     "metadata": {},
     "output_type": "execute_result"
    }
   ],
   "source": [
    "not (5 > 4)"
   ]
  },
  {
   "cell_type": "code",
   "execution_count": 6,
   "id": "4920a61a",
   "metadata": {},
   "outputs": [
    {
     "data": {
      "text/plain": [
       "True"
      ]
     },
     "execution_count": 6,
     "metadata": {},
     "output_type": "execute_result"
    }
   ],
   "source": [
    "(5 > 4) or (3 == 5)"
   ]
  },
  {
   "cell_type": "code",
   "execution_count": 7,
   "id": "88c54d37",
   "metadata": {},
   "outputs": [
    {
     "data": {
      "text/plain": [
       "False"
      ]
     },
     "execution_count": 7,
     "metadata": {},
     "output_type": "execute_result"
    }
   ],
   "source": [
    "not ((5 > 4) or (3 == 5))"
   ]
  },
  {
   "cell_type": "code",
   "execution_count": 8,
   "id": "d0f047cc",
   "metadata": {},
   "outputs": [
    {
     "data": {
      "text/plain": [
       "False"
      ]
     },
     "execution_count": 8,
     "metadata": {},
     "output_type": "execute_result"
    }
   ],
   "source": [
    "(True and True) and (True == False)"
   ]
  },
  {
   "cell_type": "code",
   "execution_count": 9,
   "id": "26bfd864",
   "metadata": {},
   "outputs": [
    {
     "data": {
      "text/plain": [
       "True"
      ]
     },
     "execution_count": 9,
     "metadata": {},
     "output_type": "execute_result"
    }
   ],
   "source": [
    "(not False) or (not True)"
   ]
  },
  {
   "cell_type": "markdown",
   "id": "436ff667",
   "metadata": {},
   "source": [
    "# 5. What are the six comparison operators?"
   ]
  },
  {
   "cell_type": "markdown",
   "id": "4ece6eed-61c3-4ba6-9b8c-0c1161a4ca9b",
   "metadata": {},
   "source": [
    "##### In Python, there are six comparison operators that can be used to compare two values and return a Boolean value (either True or False) based on the result of the comparison.\n",
    "\n",
    "##### 1 -->  \"==\" : The equality operator returns True if the two operands are equal, and False otherwise.\n",
    "##### 2 -->  \"!=\" : The inequality operator returns True if the two operands are not equal, and False if they are equal.\n",
    "##### 3 -->  \">\" : The greater than operator returns True if the first operand is greater than the second operand, and False otherwise.\n",
    "##### 4  -->  \"<\" : The less than operator returns True if the first operand is less than the second operand, and False otherwise.\n",
    "##### 5 -->  \">=\" : The greater than or equal to operator returns True if the first operand is greater than or equal to the second operand, and False otherwise.\n",
    "##### 6 -->  \"<=\" : The less than or equal to operator returns True if the first operand is less than or equal to the second operand, and False otherwise."
   ]
  },
  {
   "cell_type": "markdown",
   "id": "af6a5e97",
   "metadata": {},
   "source": [
    "# 6. How do you tell the difference between the equal to and assignment operators?Describe a\n",
    "# condition and when you would use one."
   ]
  },
  {
   "cell_type": "markdown",
   "id": "3290c9c2-2b4f-47ae-ae1b-b7bbb68c12d1",
   "metadata": {},
   "source": [
    "##### == is the equal to operator that compares two values and evaluates to a Boolean, while = is the assignment operator that stores a value in a variable.\n",
    "\n",
    "##### For example:-\n",
    "##### x=10\n",
    "##### y=20\n",
    "##### z=20\n",
    "##### (x==y) is False because we assigned different values to x and y.\n",
    "##### (y==z) is True because we assign equal values to y and z.\n",
    "##### A condition is an expression used in a flow control statement that evaluates to a Boolean value."
   ]
  },
  {
   "cell_type": "markdown",
   "id": "ac5d3980",
   "metadata": {},
   "source": [
    "# 7. Identify the three blocks in this code:\n",
    "# spam = 0\n",
    "# if spam == 10:\n",
    "# print(&#39;eggs&#39;)\n",
    "# if spam &gt; 5:\n",
    "# print(&#39;bacon&#39;)\n",
    "# else:\n",
    "# print(&#39;ham&#39;)\n",
    "# print(&#39;spam&#39;)\n",
    "# print(&#39;spam&#39;)"
   ]
  },
  {
   "cell_type": "code",
   "execution_count": 12,
   "id": "05ef025b",
   "metadata": {},
   "outputs": [
    {
     "name": "stdout",
     "output_type": "stream",
     "text": [
      "ham\n",
      "spam\n",
      "spam\n"
     ]
    }
   ],
   "source": [
    "spam = 0\n",
    "if spam == 10:\n",
    "    print('eggs')\n",
    "if spam > 5:\n",
    "    print('bacon')\n",
    "else:\n",
    "    print('ham')\n",
    "    print('spam')\n",
    "    print('spam')"
   ]
  },
  {
   "cell_type": "markdown",
   "id": "f7e6978a-1241-4a66-b180-29a726169cf4",
   "metadata": {},
   "source": [
    "##### The three blocks are everything inside the if statement and the lines print('bacon') and print('ham').\n",
    "##### print('eggs') if spam > 5: print('bacon') else: print('ham') print('spam')"
   ]
  },
  {
   "cell_type": "markdown",
   "id": "3d5787ab",
   "metadata": {},
   "source": [
    "# 8. Write code that prints Hello if 1 is stored in spam, prints Howdy if 2 is stored in spam, and prints\n",
    "# Greetings! if anything else is stored in spam."
   ]
  },
  {
   "cell_type": "code",
   "execution_count": 15,
   "id": "28002b24",
   "metadata": {},
   "outputs": [
    {
     "name": "stdout",
     "output_type": "stream",
     "text": [
      "Enter Spam value : 10\n",
      "Greetings!\n"
     ]
    }
   ],
   "source": [
    "def spam():\n",
    "    spam=int(input(\"Enter Spam value : \"))\n",
    "    if spam==1:\n",
    "        print(\"Hello\")\n",
    "    elif spam==2:\n",
    "        print(\"Howdy\")\n",
    "    else:\n",
    "        print(\"Greetings!\")\n",
    "\n",
    "spam()"
   ]
  },
  {
   "cell_type": "markdown",
   "id": "d1bdd99a",
   "metadata": {},
   "source": [
    "# 9. If your programme is stuck in an endless loop, what keys you’ll press?"
   ]
  },
  {
   "cell_type": "markdown",
   "id": "b4eade61-d778-48c3-9d7e-64835590eea1",
   "metadata": {},
   "source": [
    "##### If your program is stuck in an endless loop and you want to stop it, you can press Ctrl+C on your keyboard. This is a keyboard shortcut that interrupts the running process and stops the program. In \n",
    "most Python IDEs and terminals, Ctrl+C will immediately stop the running program and return you to the command prompt."
   ]
  },
  {
   "cell_type": "markdown",
   "id": "b83807d5",
   "metadata": {},
   "source": [
    "# 10. How can you tell the difference between break and continue?"
   ]
  },
  {
   "cell_type": "markdown",
   "id": "f97f3bfd-802f-49a1-906c-fc155f73d91d",
   "metadata": {},
   "source": [
    "##### In Python, break and continue are two different control flow statements that can be used inside loops to change their behavior. The main difference between break and continue is what they do to the loop when they are executed.\n",
    "\n",
    "##### the break statement is used to completely exit a loop, while the continue statement is used to skip over a certain iteration of a loop and move on to the next iteration.\n",
    "\n",
    "##### -->  break : The break statement is used to immediately exit a loop when a certain condition is met. When Python encounters the break keyword inside a loop, it stops executing the loop and moves on to the next statement in the program. The loop is completely terminated and control is passed to the next statement after the loop. \n",
    "\n",
    "##### -->  continue : The continue statement is used to skip over a certain iteration of a loop when a certain condition is met. When Python encounters the continue keyword inside a loop, it stops executing the current iteration of the loop and moves on to the next iteration. The loop continues to run, but any statements following the continue statement in the current iteration are skipped. "
   ]
  },
  {
   "cell_type": "markdown",
   "id": "97208290",
   "metadata": {},
   "source": [
    "# 11. In a for loop, what is the difference between range(10), range(0, 10), and range(0, 10, 1)?"
   ]
  },
  {
   "cell_type": "markdown",
   "id": "3e2bda69-beb7-4e17-b882-be21ea5519ca",
   "metadata": {},
   "source": [
    "##### They all do the same thing. The range(10) call ranges from 0 up to (but not including) 10, range(0, 10) explicitly tells the loop to start at 0, and range(0, 10, 1) explicitly tells the loop to increase the variable by 1 on each iteration."
   ]
  },
  {
   "cell_type": "code",
   "execution_count": 16,
   "id": "4bae2d7c",
   "metadata": {},
   "outputs": [
    {
     "name": "stdout",
     "output_type": "stream",
     "text": [
      "0\n",
      "1\n",
      "2\n",
      "3\n",
      "4\n",
      "5\n",
      "6\n",
      "7\n",
      "8\n",
      "9\n"
     ]
    }
   ],
   "source": [
    "for i in range(10):\n",
    "    print(i)"
   ]
  },
  {
   "cell_type": "code",
   "execution_count": 17,
   "id": "63b8a4ab",
   "metadata": {},
   "outputs": [
    {
     "name": "stdout",
     "output_type": "stream",
     "text": [
      "0\n",
      "1\n",
      "2\n",
      "3\n",
      "4\n",
      "5\n",
      "6\n",
      "7\n",
      "8\n",
      "9\n"
     ]
    }
   ],
   "source": [
    "for i in range(0,10):\n",
    "    print(i)"
   ]
  },
  {
   "cell_type": "code",
   "execution_count": 18,
   "id": "998ff77f",
   "metadata": {},
   "outputs": [
    {
     "name": "stdout",
     "output_type": "stream",
     "text": [
      "0\n",
      "1\n",
      "2\n",
      "3\n",
      "4\n",
      "5\n",
      "6\n",
      "7\n",
      "8\n",
      "9\n"
     ]
    }
   ],
   "source": [
    "for i in range(0,10,1):\n",
    "    print(i)"
   ]
  },
  {
   "cell_type": "markdown",
   "id": "4df98bf6",
   "metadata": {},
   "source": [
    "# 12. Write a short program that prints the numbers 1 to 10 using a for loop. Then write an equivalent\n",
    "# program that prints the numbers 1 to 10 using a while loop."
   ]
  },
  {
   "cell_type": "code",
   "execution_count": 19,
   "id": "1807a5b7",
   "metadata": {},
   "outputs": [
    {
     "name": "stdout",
     "output_type": "stream",
     "text": [
      "1\n",
      "2\n",
      "3\n",
      "4\n",
      "5\n",
      "6\n",
      "7\n",
      "8\n",
      "9\n",
      "10\n"
     ]
    }
   ],
   "source": [
    "for i in range(1, 11): print(i)"
   ]
  },
  {
   "cell_type": "code",
   "execution_count": 22,
   "id": "9f642307",
   "metadata": {
    "scrolled": true
   },
   "outputs": [
    {
     "name": "stdout",
     "output_type": "stream",
     "text": [
      "1\n",
      "2\n",
      "3\n",
      "4\n",
      "5\n",
      "6\n",
      "7\n",
      "8\n",
      "9\n",
      "10\n"
     ]
    }
   ],
   "source": [
    "i = 1\n",
    "while i <= 10:\n",
    "    print(i)\n",
    "    i = i + 1"
   ]
  },
  {
   "cell_type": "markdown",
   "id": "996671d3",
   "metadata": {},
   "source": [
    "# 13. If you had a function named bacon() inside a module named spam, how would you call it after\n",
    "# importing spam?"
   ]
  },
  {
   "cell_type": "markdown",
   "id": "59ee446d-18aa-45b2-a3a2-bceb93b42f4e",
   "metadata": {},
   "source": [
    "##### This function can be called with spam.bacon()."
   ]
  },
  {
   "cell_type": "code",
   "execution_count": null,
   "id": "909312f2-0dc4-4110-b53b-410cd3f5add6",
   "metadata": {},
   "outputs": [],
   "source": []
  }
 ],
 "metadata": {
  "kernelspec": {
   "display_name": "Python 3 (ipykernel)",
   "language": "python",
   "name": "python3"
  },
  "language_info": {
   "codemirror_mode": {
    "name": "ipython",
    "version": 3
   },
   "file_extension": ".py",
   "mimetype": "text/x-python",
   "name": "python",
   "nbconvert_exporter": "python",
   "pygments_lexer": "ipython3",
   "version": "3.10.6"
  }
 },
 "nbformat": 4,
 "nbformat_minor": 5
}
