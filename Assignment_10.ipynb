{
 "cells": [
  {
   "cell_type": "markdown",
   "id": "371fa06e-7c59-4d34-adb2-872d040e8ec8",
   "metadata": {},
   "source": [
    "# 1. How do you distinguish between shutil.copy() and shutil.copytree()?\n"
   ]
  },
  {
   "cell_type": "markdown",
   "id": "1ef7c339-e901-43c0-ac83-6361ea1760b2",
   "metadata": {},
   "source": [
    "#### The shutil.copy() function is used to copy a single file from one location to another. It takes two arguments - the source file and the destination file.\n",
    "\n",
    "#### The shutil.copytree() function is used to copy an entire directory from one location to another. It takes two arguments - the source directory and the destination directory. "
   ]
  },
  {
   "cell_type": "markdown",
   "id": "2f44ab05-5e5e-46fa-8723-0516c5c2354a",
   "metadata": {},
   "source": [
    "# 2. What function is used to rename files??\n"
   ]
  },
  {
   "cell_type": "markdown",
   "id": "59354a68-9e53-4974-ab29-cbc9f30da410",
   "metadata": {},
   "source": [
    " #### The os.rename() function is used to rename files.\n",
    " #### The os.rename(src, dst) function renames the file or directory named src to dst. Here, src is the source file or directory name, and dst is the new name of the file or directory."
   ]
  },
  {
   "cell_type": "markdown",
   "id": "54f602dc-3bda-4654-b3af-20fc2f0980fc",
   "metadata": {},
   "source": [
    "# 3. What is the difference between the delete functions in the send2trash and shutil modules?\n"
   ]
  },
  {
   "cell_type": "markdown",
   "id": "79149404-a6c4-43fc-a117-856a1d28044f",
   "metadata": {},
   "source": [
    "#### The \"send2trash\" and \"shutil\" modules are used in Python for deleting files and directories.\n",
    "\n",
    "#### The main difference between the two is that the \"send2trash\" module sends files and directories to the system trash or recycle bin instead of permanently deleting them. This means that the user can recover the deleted items if they want to. On the other hand, the \"shutil\" module deletes files and directories permanently, without the option of recovery."
   ]
  },
  {
   "cell_type": "markdown",
   "id": "b6cab7b2-ae95-468a-a7d1-f6046988844a",
   "metadata": {},
   "source": [
    "# 4.ZipFile objects have a close() method just like File objects’ close() method. What ZipFile method is equivalent to File objects’ open() method?\n"
   ]
  },
  {
   "cell_type": "markdown",
   "id": "5befdfd8-5b1e-4e54-a5ee-fbc82b530124",
   "metadata": {},
   "source": [
    "#### The zipfile.ZipFile() function is equivalent to the open() function; the first argument is the filename, and the second argument is the mode to open the ZIP file in (read, write, or append)."
   ]
  },
  {
   "cell_type": "markdown",
   "id": "f3828a47-2521-44ce-b376-6debf0432d36",
   "metadata": {},
   "source": [
    "# 5. Create a programme that searches a folder tree for files with a certain file extension (such as .pdf or .jpg). Copy these files from whatever location they are in to a new folder."
   ]
  },
  {
   "cell_type": "code",
   "execution_count": null,
   "id": "06dc8814-41ed-4615-abd0-e443ce922528",
   "metadata": {},
   "outputs": [],
   "source": [
    "import os\n",
    "import shutil\n",
    "\n",
    "src_folder = 'D:/desktop' #Here you have to provide your source folder paths\n",
    "dst_folder = 'D:/programfolder' # & Here you have to provide your destination folder paths\n",
    "file_ext = ('.pdf', '.jpg')\n",
    "\n",
    "if not os.path.exists(dst_folder):\n",
    "    os.makedirs(dst_folder)\n",
    "\n",
    "for foldername, subfolders, filenames in os.walk(src_folder):\n",
    "    for filename in filenames:\n",
    "        if filename.endswith(file_ext):\n",
    "            src_file = os.path.join(foldername, filename)\n",
    "            dst_file = os.path.join(dst_folder, filename)\n",
    "            shutil.copy(src_file, dst_file)\n",
    "            print(f'Copied {src_file} to {dst_file}')"
   ]
  }
 ],
 "metadata": {
  "kernelspec": {
   "display_name": "Python 3 (ipykernel)",
   "language": "python",
   "name": "python3"
  },
  "language_info": {
   "codemirror_mode": {
    "name": "ipython",
    "version": 3
   },
   "file_extension": ".py",
   "mimetype": "text/x-python",
   "name": "python",
   "nbconvert_exporter": "python",
   "pygments_lexer": "ipython3",
   "version": "3.10.6"
  }
 },
 "nbformat": 4,
 "nbformat_minor": 5
}
