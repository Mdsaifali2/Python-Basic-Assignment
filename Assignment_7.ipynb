{
 "cells": [
  {
   "attachments": {},
   "cell_type": "markdown",
   "id": "711365f7-6467-489f-b10f-6f86e92be0dc",
   "metadata": {},
   "source": [
    "# 1. What is the name of the feature responsible for generating Regex objects?\n"
   ]
  },
  {
   "attachments": {},
   "cell_type": "markdown",
   "id": "bd6be6b9",
   "metadata": {},
   "source": [
    "#### The re.compile() function is used to generate a Regex object. "
   ]
  },
  {
   "attachments": {},
   "cell_type": "markdown",
   "id": "56578092",
   "metadata": {},
   "source": [
    "# 2. Why do raw strings often appear in Regex objects?\n"
   ]
  },
  {
   "attachments": {},
   "cell_type": "markdown",
   "id": "0a8ab383",
   "metadata": {},
   "source": [
    "#### Raw strings are used so that backslashes do not have to be escaped."
   ]
  },
  {
   "attachments": {},
   "cell_type": "markdown",
   "id": "2810ce6d",
   "metadata": {},
   "source": [
    "# 3. What is the return value of the search() method?\n"
   ]
  },
  {
   "attachments": {},
   "cell_type": "markdown",
   "id": "0dbe0fed",
   "metadata": {},
   "source": [
    "#### The search() method of a regular expression object searches a string for the presence of a match and returns a match object if there is a match, otherwise it returns None."
   ]
  },
  {
   "attachments": {},
   "cell_type": "markdown",
   "id": "1f1dc62c",
   "metadata": {},
   "source": [
    "# 4. From a Match item, how do you get the actual strings that match the pattern?\n"
   ]
  },
  {
   "attachments": {},
   "cell_type": "markdown",
   "id": "bf826660",
   "metadata": {},
   "source": [
    "#### To get the actual strings that match the pattern from a Match object in Python, you can use the \"group()\" method. The group() method returns the string matched by the regular expression."
   ]
  },
  {
   "attachments": {},
   "cell_type": "markdown",
   "id": "66ed7b47",
   "metadata": {},
   "source": [
    "# 5. In the regex which created from the r&#39;(\\d\\d\\d)-(\\d\\d\\d-\\d\\d\\d\\d)&#39;, what does group zero cover? Group 2? Group 1?\n"
   ]
  },
  {
   "attachments": {},
   "cell_type": "markdown",
   "id": "eebe105a",
   "metadata": {},
   "source": [
    "#### In the regex r'(\\d\\d\\d)-(\\d\\d\\d-\\d\\d\\d\\d)', group zero refers to the entire match, group 1 refers to the first set of parentheses which capture the first three digits, and group 2 refers to the second set of parentheses which capture the remaining seven digits."
   ]
  },
  {
   "attachments": {},
   "cell_type": "markdown",
   "id": "069940a0",
   "metadata": {},
   "source": [
    "# 6. In standard expression syntax, parentheses and intervals have distinct meanings. How can you tell a regex that you want it to fit real parentheses and periods?\n"
   ]
  },
  {
   "attachments": {},
   "cell_type": "markdown",
   "id": "a353cb4c",
   "metadata": {},
   "source": [
    "#### Periods and parentheses can be escaped with a backslash: ., (, and )."
   ]
  },
  {
   "attachments": {},
   "cell_type": "markdown",
   "id": "d6f8a077",
   "metadata": {},
   "source": [
    "# 7. The findall() method returns a string list or a list of string tuples. What causes it to return one of the two options?\n"
   ]
  },
  {
   "attachments": {},
   "cell_type": "markdown",
   "id": "439e5b04",
   "metadata": {},
   "source": [
    "#### If the regex has no groups, a list of strings is returned. If the regex has groups, a list of tuples of strings is returned."
   ]
  },
  {
   "attachments": {},
   "cell_type": "markdown",
   "id": "3e7edb5a",
   "metadata": {},
   "source": [
    "# 8. In standard expressions, what does the | character mean?\n"
   ]
  },
  {
   "attachments": {},
   "cell_type": "markdown",
   "id": "fd2e63c0",
   "metadata": {},
   "source": []
  },
  {
   "cell_type": "code",
   "execution_count": 24,
   "id": "fa0b8b6b",
   "metadata": {},
   "outputs": [
    {
     "name": "stdout",
     "output_type": "stream",
     "text": [
      "['cat', 'dog']\n"
     ]
    }
   ],
   "source": [
    "import re\n",
    "\n",
    "text = \"I have a cat and a dog\"\n",
    "pattern = r\"cat|dog\"\n",
    "\n",
    "matches = re.findall(pattern, text)\n",
    "print(matches)  # Output: ['cat', 'dog']\n"
   ]
  },
  {
   "attachments": {},
   "cell_type": "markdown",
   "id": "034173a0",
   "metadata": {},
   "source": [
    "# 9. In regular expressions, what does the character stand for?"
   ]
  },
  {
   "attachments": {},
   "cell_type": "markdown",
   "id": "204b28e6",
   "metadata": {},
   "source": [
    "#### In regular expressions, the \"|\" character is called a pipe and is used to represent alternation, which means matching one pattern or another. It allows for matching one expression or another expression."
   ]
  },
  {
   "attachments": {},
   "cell_type": "markdown",
   "id": "222924d6-d150-4b40-a705-f8b2ee2dea51",
   "metadata": {},
   "source": [
    "# 10. In regular expressions, what is the difference between the + and * characters?"
   ]
  },
  {
   "attachments": {},
   "cell_type": "markdown",
   "id": "f9dc824d",
   "metadata": {},
   "source": [
    "#### the + and * characters are known as quantifiers and have different meanings:\n",
    "\n",
    "#### The + character matches one or more occurrences of the preceding character or group.\n",
    "#### The * character matches zero or more occurrences of the preceding character or group."
   ]
  },
  {
   "attachments": {},
   "cell_type": "markdown",
   "id": "5bac0be5-7c8c-454c-af9e-c0def8634e25",
   "metadata": {},
   "source": [
    "# 11. What is the difference between {4} and {4,5} in regular expression?\n"
   ]
  },
  {
   "attachments": {},
   "cell_type": "markdown",
   "id": "9df36c46",
   "metadata": {},
   "source": [
    "#### In regular expressions, the notation {4} matches exactly four occurrences of the preceding character or group, while {4,5} matches at least four and at most five occurrences of the preceding character or group."
   ]
  },
  {
   "attachments": {},
   "cell_type": "markdown",
   "id": "9227960f",
   "metadata": {},
   "source": [
    "# 12. What do you mean by the \\d, \\w, and \\s shorthand character classes signify in regular expressions?\n"
   ]
  },
  {
   "attachments": {},
   "cell_type": "markdown",
   "id": "1f471843",
   "metadata": {},
   "source": [
    "#### In regular expressions, shorthand character classes represent certain common types of characters, allowing for easier and more concise expression patterns.\n",
    "\n",
    "#### \"\\d\" represents any digit character. For example, the pattern \\d\\d\\d would match any three consecutive digits.\n",
    "\n",
    "#### \"\\w\" represents any word character, which includes letters, digits, and underscores. For example, the pattern \\w\\w\\w would match any three consecutive word characters.\n",
    "\n",
    "#### \"\\s\" represents any whitespace character, including spaces, tabs, and newlines. For example, the pattern This\\s\\w+ would match the word following the string \"This\" with any whitespace character between them."
   ]
  },
  {
   "attachments": {},
   "cell_type": "markdown",
   "id": "7b0229e9",
   "metadata": {},
   "source": [
    "# 13. What do means by \\D, \\W, and \\S shorthand character classes signify in regular expressions?\n"
   ]
  },
  {
   "attachments": {},
   "cell_type": "markdown",
   "id": "ae71d99c",
   "metadata": {},
   "source": [
    "#### In regular expressions, the shorthand character classes \\D, \\W, and \\S are used to match any character that is not a digit, word character, or whitespace character, respectively.\n",
    "\n",
    "#### \"\\D\" : matches any character that is not a digit (equivalent to the character class [^0-9])\n",
    "#### \"\\W\" : matches any character that is not a word character (equivalent to the character class [^a-zA-Z0-9_])\n",
    "#### \"\\S\" : matches any character that is not a whitespace character (equivalent to the character class [^ \\t\\n\\r\\f\\v])"
   ]
  },
  {
   "cell_type": "code",
   "execution_count": 33,
   "id": "34292209",
   "metadata": {},
   "outputs": [
    {
     "name": "stdout",
     "output_type": "stream",
     "text": [
      "['The price is $']\n",
      "[' ', ' ', ' $']\n",
      "['The', 'price', 'is', '$20']\n"
     ]
    }
   ],
   "source": [
    "import re\n",
    "\n",
    "string = \"The price is $20\"\n",
    "\n",
    "result = re.findall(r\"\\D+\", string)\n",
    "print(result)\n",
    "res = re.findall(r\"\\W+\", string)\n",
    "print(res)\n",
    "rese = re.findall(r\"\\S+\", string)\n",
    "print(rese)"
   ]
  },
  {
   "attachments": {},
   "cell_type": "markdown",
   "id": "2e7a8829",
   "metadata": {},
   "source": [
    "# 14. What is the difference between .*? and .*?\n"
   ]
  },
  {
   "attachments": {},
   "cell_type": "markdown",
   "id": "1e10f7a4",
   "metadata": {},
   "source": []
  },
  {
   "attachments": {},
   "cell_type": "markdown",
   "id": "94d5590c",
   "metadata": {},
   "source": [
    "# 15. What is the syntax for matching both numbers and lowercase letters with a character class?\n"
   ]
  },
  {
   "attachments": {},
   "cell_type": "markdown",
   "id": "cd7e13e9",
   "metadata": {},
   "source": []
  },
  {
   "attachments": {},
   "cell_type": "markdown",
   "id": "38ca5447",
   "metadata": {},
   "source": [
    "# 16. What is the procedure for making a normal expression in regax case insensitive?\n"
   ]
  },
  {
   "attachments": {},
   "cell_type": "markdown",
   "id": "5bc3325c",
   "metadata": {},
   "source": []
  },
  {
   "attachments": {},
   "cell_type": "markdown",
   "id": "c5cb076b",
   "metadata": {},
   "source": [
    "# 17. What does the . character normally match? What does it match if re.DOTALL is passed as 2nd argument in re.compile()?\n"
   ]
  },
  {
   "attachments": {},
   "cell_type": "markdown",
   "id": "288789e6",
   "metadata": {},
   "source": []
  },
  {
   "attachments": {},
   "cell_type": "markdown",
   "id": "866f9bca",
   "metadata": {},
   "source": [
    "# 18. If numReg = re.compile(r&#39;\\d+&#39;), what will numRegex.sub(&#39;X&#39;, &#39;11 drummers, 10 pipers, five rings, 4 hen&#39;) return?\n"
   ]
  },
  {
   "attachments": {},
   "cell_type": "markdown",
   "id": "e5447884",
   "metadata": {},
   "source": []
  },
  {
   "attachments": {},
   "cell_type": "markdown",
   "id": "58f5049e",
   "metadata": {},
   "source": [
    "# 19. What does passing re.VERBOSE as the 2nd argument to re.compile() allow to do?"
   ]
  },
  {
   "attachments": {},
   "cell_type": "markdown",
   "id": "87618d31",
   "metadata": {},
   "source": []
  },
  {
   "attachments": {},
   "cell_type": "markdown",
   "id": "e878add0-b363-4917-96ee-4886389fb4ea",
   "metadata": {},
   "source": [
    "# 20. How would you write a regex that match a number with comma for every three digits? It must match the given following:\n",
    "\n",
    "&#39;42&#39;\n",
    "\n",
    "&#39;1,234&#39;\n",
    "\n",
    "&#39;6,368,745&#39;\n",
    "\n",
    "but not the following:\n",
    "\n",
    "&#39;12,34,567&#39; (which has only two digits between the commas)\n",
    "\n",
    "&#39;1234&#39; (which lacks commas)\n"
   ]
  },
  {
   "attachments": {},
   "cell_type": "markdown",
   "id": "4935fe3c",
   "metadata": {},
   "source": []
  },
  {
   "attachments": {},
   "cell_type": "markdown",
   "id": "ecedd1a8-b9b9-46b0-b905-b4da3646d8d0",
   "metadata": {},
   "source": [
    "# 21. How would you write a regex that matches the full name of someone whose last name is Watanabe? You can assume that the first name that comes before it will always be one word that begins with a capital letter. The regex must match the following:\n",
    "\n",
    "&#39;Haruto Watanabe&#39;\n",
    "\n",
    "&#39;Alice Watanabe&#39;\n",
    "\n",
    "&#39;RoboCop Watanabe&#39;\n",
    "\n",
    "but not the following:\n",
    "\n",
    "&#39;haruto Watanabe&#39; (where the first name is not capitalized)\n",
    "\n",
    "&#39;Mr. Watanabe&#39; (where the preceding word has a nonletter character)\n",
    "\n",
    "&#39;Watanabe&#39; (which has no first name)\n",
    "\n",
    "&#39;Haruto watanabe&#39; (where Watanabe is not capitalized)"
   ]
  },
  {
   "attachments": {},
   "cell_type": "markdown",
   "id": "482fe615-b178-4636-9a50-a97a63262f3f",
   "metadata": {},
   "source": [
    "# 22. How would you write a regex that matches a sentence where the first word is either Alice, Bob, or Carol; the second word is either eats, pets, or throws; the third word is apples, cats, or baseballs; and the sentence ends with a period? This regex should be case-insensitive. It must match the following:\n",
    "\n",
    "&#39;Alice eats apples.&#39;\n",
    "\n",
    "&#39;Bob pets cats.&#39;\n",
    "\n",
    "&#39;Carol throws baseballs.&#39;\n",
    "\n",
    "&#39;Alice throws Apples.&#39;\n",
    "\n",
    "&#39;BOB EATS CATS.&#39;\n",
    "\n",
    "but not the following:\n",
    "\n",
    "&#39;RoboCop eats apples.&#39;\n",
    "\n",
    "&#39;ALICE THROWS FOOTBALLS.&#39;\n",
    "\n",
    "&#39;Carol eats 7 cats.&#39;"
   ]
  },
  {
   "cell_type": "code",
   "execution_count": null,
   "id": "4d4ef56b-4cb0-486a-920e-36d82c1b0b45",
   "metadata": {},
   "outputs": [],
   "source": []
  }
 ],
 "metadata": {
  "kernelspec": {
   "display_name": "Python 3 (ipykernel)",
   "language": "python",
   "name": "python3"
  },
  "language_info": {
   "codemirror_mode": {
    "name": "ipython",
    "version": 3
   },
   "file_extension": ".py",
   "mimetype": "text/x-python",
   "name": "python",
   "nbconvert_exporter": "python",
   "pygments_lexer": "ipython3",
   "version": "3.8.0"
  }
 },
 "nbformat": 4,
 "nbformat_minor": 5
}
