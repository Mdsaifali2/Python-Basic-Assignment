{
 "cells": [
  {
   "attachments": {},
   "cell_type": "markdown",
   "id": "1b5dcddb-03dc-4317-b6da-c90b605badff",
   "metadata": {},
   "source": [
    "# 1) . What is the difference between enclosing a list comprehension in square brackets and parentheses?\n"
   ]
  },
  {
   "attachments": {},
   "cell_type": "markdown",
   "id": "d69c368b",
   "metadata": {},
   "source": []
  },
  {
   "attachments": {},
   "cell_type": "markdown",
   "id": "26c60e09",
   "metadata": {},
   "source": [
    "# 2) What is the relationship between generators and iterators?\n"
   ]
  },
  {
   "attachments": {},
   "cell_type": "markdown",
   "id": "c2c3eb3c",
   "metadata": {},
   "source": []
  },
  {
   "attachments": {},
   "cell_type": "markdown",
   "id": "31cae2db",
   "metadata": {},
   "source": [
    "# 3) What are the signs that a function is a generator function?\n"
   ]
  },
  {
   "attachments": {},
   "cell_type": "markdown",
   "id": "074983b6",
   "metadata": {},
   "source": []
  },
  {
   "attachments": {},
   "cell_type": "markdown",
   "id": "4fed8da5",
   "metadata": {},
   "source": [
    "# 4) What is the purpose of a yield statement?\n"
   ]
  },
  {
   "attachments": {},
   "cell_type": "markdown",
   "id": "33978552",
   "metadata": {},
   "source": []
  },
  {
   "attachments": {},
   "cell_type": "markdown",
   "id": "dae95318",
   "metadata": {},
   "source": [
    "# 5) What is the relationship between map calls and list comprehensions? Make a comparison and contrast between the two."
   ]
  },
  {
   "attachments": {},
   "cell_type": "markdown",
   "id": "9856fb31",
   "metadata": {},
   "source": []
  }
 ],
 "metadata": {
  "kernelspec": {
   "display_name": "Python 3 (ipykernel)",
   "language": "python",
   "name": "python3"
  },
  "language_info": {
   "codemirror_mode": {
    "name": "ipython",
    "version": 3
   },
   "file_extension": ".py",
   "mimetype": "text/x-python",
   "name": "python",
   "nbconvert_exporter": "python",
   "pygments_lexer": "ipython3",
   "version": "3.10.6"
  }
 },
 "nbformat": 4,
 "nbformat_minor": 5
}
