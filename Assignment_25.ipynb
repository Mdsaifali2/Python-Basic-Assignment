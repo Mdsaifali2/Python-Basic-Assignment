{
 "cells": [
  {
   "attachments": {},
   "cell_type": "markdown",
   "id": "1b5dcddb-03dc-4317-b6da-c90b605badff",
   "metadata": {},
   "source": [
    "# 1) . What is the difference between enclosing a list comprehension in square brackets and parentheses?\n"
   ]
  },
  {
   "attachments": {},
   "cell_type": "markdown",
   "id": "d69c368b",
   "metadata": {},
   "source": [
    "#### List Comprehension with square brackets produces list.\n",
    "#### List Comprehension with parentheses creates generators"
   ]
  },
  {
   "cell_type": "code",
   "execution_count": 4,
   "id": "6dc329b7",
   "metadata": {},
   "outputs": [
    {
     "name": "stdout",
     "output_type": "stream",
     "text": [
      "[1, 2, 3, 4, 5, 6, 7, 8, 9, 10]\n"
     ]
    }
   ],
   "source": [
    "lst = [i for i in range(1,10+1)]\n",
    "print(lst)"
   ]
  },
  {
   "attachments": {},
   "cell_type": "markdown",
   "id": "aa857bba",
   "metadata": {},
   "source": [
    "#### If you are familiar with list comprehensions, then this look likes it might create a tuple which is (1,2,3,4,....), but it is actually a generator expression - this expression is a one time only iterator which will yield the values 1, 2, 3, 4.... in that order"
   ]
  },
  {
   "cell_type": "code",
   "execution_count": 5,
   "id": "3cde7842",
   "metadata": {},
   "outputs": [
    {
     "data": {
      "text/plain": [
       "<generator object <genexpr> at 0x000001F6275654A0>"
      ]
     },
     "execution_count": 5,
     "metadata": {},
     "output_type": "execute_result"
    }
   ],
   "source": [
    "lstPar = (i for i in range(10))\n",
    "lstPar"
   ]
  },
  {
   "cell_type": "code",
   "execution_count": null,
   "id": "6703b0c1",
   "metadata": {},
   "outputs": [],
   "source": [
    "print(i)"
   ]
  },
  {
   "cell_type": "code",
   "execution_count": 6,
   "id": "1018316f",
   "metadata": {},
   "outputs": [
    {
     "name": "stdout",
     "output_type": "stream",
     "text": [
      "0\n",
      "1\n",
      "2\n",
      "3\n",
      "4\n",
      "5\n",
      "6\n",
      "7\n",
      "8\n",
      "9\n"
     ]
    }
   ],
   "source": [
    "for i in lstPar:\n",
    "    print(i)"
   ]
  },
  {
   "attachments": {},
   "cell_type": "markdown",
   "id": "26c60e09",
   "metadata": {},
   "source": [
    "# 2) What is the relationship between generators and iterators?\n"
   ]
  },
  {
   "attachments": {},
   "cell_type": "markdown",
   "id": "c2c3eb3c",
   "metadata": {},
   "source": [
    "#### An iterator is an object which contains a countable number of values and it is used to iterate over iterable objects like list, tuples etc\n",
    "#### Using an iterator-\n",
    "#### iter() keyword is used to create an iterator containing an iterable object.\n",
    "#### next() keyword is used to call the next element in the iterable object.\n",
    "\n",
    "#### Generator\n",
    "#### It is another way of creating iterators in a simple way where it uses the keyword “yield” instead of returning it in a defined function\n",
    "#### Generators are implemented using a function\n",
    "#### Here, the yield function returns the data without affecting or exiting the function. \n",
    "#### It will return a sequence of data in an iterable format where we need to iterate over the sequence to use the data as they won’t store the entire sequence in the memory\n",
    "#### By using next() function we can iterate the output of generator function"
   ]
  },
  {
   "cell_type": "code",
   "execution_count": 10,
   "id": "41d1d7fd",
   "metadata": {},
   "outputs": [
    {
     "name": "stdout",
     "output_type": "stream",
     "text": [
      "0\n",
      "1\n",
      "2\n",
      "3\n",
      "4\n",
      "5\n",
      "6\n",
      "7\n",
      "8\n",
      "9\n"
     ]
    }
   ],
   "source": [
    "iter_list = iter([i for i in range(20)])\n",
    "print(next(iter_list))\n",
    "print(next(iter_list))\n",
    "print(next(iter_list))\n",
    "print(next(iter_list))\n",
    "print(next(iter_list))\n",
    "print(next(iter_list))\n",
    "print(next(iter_list))\n",
    "print(next(iter_list))\n",
    "print(next(iter_list))\n",
    "print(next(iter_list))"
   ]
  },
  {
   "cell_type": "code",
   "execution_count": 11,
   "id": "0f888f0f",
   "metadata": {},
   "outputs": [],
   "source": [
    "def square(n):\n",
    "    for i in range(n+1):\n",
    "        yield i*i"
   ]
  },
  {
   "cell_type": "code",
   "execution_count": 12,
   "id": "c6432489",
   "metadata": {},
   "outputs": [
    {
     "name": "stdout",
     "output_type": "stream",
     "text": [
      "0\n",
      "1\n",
      "4\n",
      "9\n",
      "16\n",
      "25\n",
      "36\n"
     ]
    }
   ],
   "source": [
    "ls = square(10)\n",
    "print(next(ls))\n",
    "print(next(ls))\n",
    "print(next(ls))\n",
    "print(next(ls))\n",
    "print(next(ls))\n",
    "print(next(ls))\n",
    "print(next(ls))"
   ]
  },
  {
   "attachments": {},
   "cell_type": "markdown",
   "id": "31cae2db",
   "metadata": {},
   "source": [
    "# 3) What are the signs that a function is a generator function?\n"
   ]
  },
  {
   "attachments": {},
   "cell_type": "markdown",
   "id": "074983b6",
   "metadata": {},
   "source": [
    "#### A function is a generator function if it contains at least one yield statement. The presence of yield differentiates generator functions from regular functions that simply return a value. Generator functions generate a sequence of values that can be iterated over using a for loop or consumed using the next() function."
   ]
  },
  {
   "attachments": {},
   "cell_type": "markdown",
   "id": "4fed8da5",
   "metadata": {},
   "source": [
    "# 4) What is the purpose of a yield statement?\n"
   ]
  },
  {
   "attachments": {},
   "cell_type": "markdown",
   "id": "33978552",
   "metadata": {},
   "source": [
    "#### the purpose of the yield statement is to produce a value and temporarily suspend the execution of a generator function, so that it can be resumed from the same point at a later time.\n",
    "#### The yield statement is used in Python to define a generator function. A generator function returns a generator object when it is called. The generator object is used to generate a sequence of values, one at a time, on-the-fly, as and when required."
   ]
  },
  {
   "attachments": {},
   "cell_type": "markdown",
   "id": "dae95318",
   "metadata": {},
   "source": [
    "# 5) What is the relationship between map calls and list comprehensions? Make a comparison and contrast between the two.\n",
    "\n",
    "    Map function:\n",
    "    Suppose we have a function and we want to compute this function for different values in a single line of code . This is where map() function plays its role. map() function returns a map object(which is an iterator) of the results after applying the given function to each item of a given iterable (list, tuple etc.)\n",
    "    \n",
    "    If we already have a function defined, it is often good to use map For example, map(sum, myLists) is more neat than [sum(x) for x in myLists]. You gain the elegance of not having to make up a dummy variable (e.g. sum(x) for x... or sum(_) for _... or sum(readableName) for readableName...) which you have to type twice, just to iterate.\n",
    "    \n",
    "    List Comprehension:\n",
    "    List Comprehension is a substitute for the lambda function, map(), filter() and reduce()\n",
    "    \n",
    "    \n",
    "    Comparision :\n",
    "        1. List comprehension is more concise and easier to read as compared to map\n",
    "        2. List comprehension allows filtering. In map, we have no such facility\n",
    "        For example, to print all even numbers in range of 100, we can write [n for n in range(100) if n%2 == 0]. There is \n",
    "        no alternate for it in map\n",
    "        3. List comprehension are used when a list of results is required, where as map only returns a map object and does \n",
    "        not return any list.\n",
    "        4. List comprehension is faster than map when we need to evaluate expressions that are too long or complicated \n",
    "        to express\n",
    "        5. Map is faster in case of calling an already defined function (as no lambda is required)"
   ]
  }
 ],
 "metadata": {
  "kernelspec": {
   "display_name": "Python 3 (ipykernel)",
   "language": "python",
   "name": "python3"
  },
  "language_info": {
   "codemirror_mode": {
    "name": "ipython",
    "version": 3
   },
   "file_extension": ".py",
   "mimetype": "text/x-python",
   "name": "python",
   "nbconvert_exporter": "python",
   "pygments_lexer": "ipython3",
   "version": "3.8.0"
  }
 },
 "nbformat": 4,
 "nbformat_minor": 5
}
