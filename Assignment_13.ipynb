{
 "cells": [
  {
   "cell_type": "markdown",
   "id": "e81ac154-d280-4b16-b9da-a51c6413b733",
   "metadata": {},
   "source": [
    "# 1. What advantages do Excel spreadsheets have over CSV spreadsheets?"
   ]
  },
  {
   "cell_type": "markdown",
   "id": "957c5f29-67f8-4830-b495-bf48de3a90a7",
   "metadata": {},
   "source": [
    "#### Excel spreadsheets have some advantages over CSV spreadsheets\n",
    "#### Excel allows for more complex data structures, including multiple sheets in a single workbook, cell formatting, and formulas. Excel offers more advanced features such as data validation, sorting, filtering, and conditional formatting. Excel can handle larger datasets than CSV files. Excel is often easier to use for non-technical users, as it provides a graphical interface for working with data. Excel allows for more advanced data analysis using tools such as pivot tables and charts."
   ]
  },
  {
   "cell_type": "markdown",
   "id": "63df07d7-45ac-4538-8d83-33518f07deb0",
   "metadata": {},
   "source": [
    "# 2.What do you pass to csv.reader() and csv.writer() to create reader and writer objects?\n"
   ]
  },
  {
   "cell_type": "markdown",
   "id": "665356bb-1020-4fa9-b6b8-bda7f7098632",
   "metadata": {},
   "source": [
    "#### we have to pass a File object, obtained from a call to open()."
   ]
  },
  {
   "cell_type": "markdown",
   "id": "2780ff73-2bb4-4576-b210-45e615cac340",
   "metadata": {},
   "source": [
    "# 3. What modes do File objects for reader and writer objects need to be opened in?\n"
   ]
  },
  {
   "cell_type": "markdown",
   "id": "71ccf8a2-a019-4583-9481-e28d90623120",
   "metadata": {},
   "source": [
    "#### File objects need to be opened in read-binary ('rb') for reader objects and write-binary ('wb') for writer objects."
   ]
  },
  {
   "cell_type": "markdown",
   "id": "fa571291-416d-4f6a-9c28-4d7883f0ea6c",
   "metadata": {},
   "source": [
    "# 4. What method takes a list argument and writes it to a CSV file?\n"
   ]
  },
  {
   "cell_type": "markdown",
   "id": "bca0aadd-4002-4a69-83c5-e639d86a797a",
   "metadata": {},
   "source": [
    "#### The writerows() method takes a list of lists as an argument and writes them to a CSV file. Each inner list represents a row of data, and each element of the inner list represents a column in the row.\n",
    "#### Exmple :"
   ]
  },
  {
   "cell_type": "raw",
   "id": "9676b707-89e8-4219-9625-81bb38b339a4",
   "metadata": {},
   "source": [
    "import csv\n",
    "\n",
    "deta = [\n",
    "    ['Name', 'Age', 'Country'],\n",
    "    ['Alice', 25, 'USA'],\n",
    "    ['Bob', 30, 'Canada'],\n",
    "    ['Charlie', 35, 'UK'],\n",
    "]\n",
    "# Open the CSV file in write mode\n",
    "with open('output.csv', 'w', newline='') as file:\n",
    "    writer = csv.writer(file)\n",
    "\n",
    "    # Write the data to the CSV file\n",
    "    writer.writerows(deta)"
   ]
  },
  {
   "cell_type": "markdown",
   "id": "61dccb80-728e-4e23-90e1-6a41cc731e24",
   "metadata": {},
   "source": [
    "# 5. What do the keyword arguments delimiter and line terminator do?\n"
   ]
  },
  {
   "cell_type": "markdown",
   "id": "7dbe6a5c-198b-49ea-a28e-9b3ca7525065",
   "metadata": {},
   "source": [
    "#### The \"delimiter\" keyword argument specifies the character that separates columns in a CSV file when writing data or reading data. By default, the delimiter is a comma (,).\n",
    "#### The lineterminator keyword argument specifies the character that separates rows in a CSV file when writing data. By default, the line terminator is the newline character (\\n)."
   ]
  },
  {
   "cell_type": "raw",
   "id": "fcf886af-2eba-4526-978d-0f416bddae3f",
   "metadata": {},
   "source": [
    "import csv\n",
    "\n",
    "data = [\n",
    "    ['Name', 'Age', 'Country'],\n",
    "    ['Alice', '30', 'USA'],\n",
    "    ['Bob', '25', 'Canada'],\n",
    "    ['Charlie', '35', 'Australia']\n",
    "]\n",
    "\n",
    "# Writing CSV file with semicolon as delimiter and \\r\\n as line terminator\n",
    "with open('deli_lineTerm_example.csv', 'w', newline='', encoding='utf-8') as file:\n",
    "    writer = csv.writer(file, delimiter=';', lineterminator='\\r\\n')\n",
    "    writer.writerows(data)\n",
    "\n",
    "# Reading CSV file with semicolon as delimiter\n",
    "with open('deli_lineTerm_example.csv', newline='', encoding='utf-8') as file:\n",
    "    reader = csv.reader(file, delimiter=';')\n",
    "    for row in reader:\n",
    "        print(row)"
   ]
  },
  {
   "cell_type": "markdown",
   "id": "2928c890-7bb6-4f34-a75c-c95274ed3562",
   "metadata": {},
   "source": [
    "# 6. What function takes a string of JSON data and returns a Python data structure?\n"
   ]
  },
  {
   "cell_type": "markdown",
   "id": "c78c95b6-d76c-4f34-bd42-aaebeb795b81",
   "metadata": {},
   "source": [
    "#### The \"json.loads()\" function takes a string of JSON data and returns a Python data structure."
   ]
  },
  {
   "cell_type": "raw",
   "id": "ac518877-b2de-4ab7-a961-1e46fb6fed5d",
   "metadata": {},
   "source": [
    "import json\n",
    "\n",
    "json_string = '{\"name\": \"John\", \"age\": 30, \"city\": \"New York\"}'\n",
    "\n",
    "data = json.loads(json_string)\n",
    "print(data)"
   ]
  },
  {
   "cell_type": "markdown",
   "id": "17a7b314-0dad-4d52-b845-4862c8ac1610",
   "metadata": {},
   "source": [
    "# 7. What function takes a Python data structure and returns a string of JSON data?"
   ]
  },
  {
   "cell_type": "markdown",
   "id": "a45be760-fe3e-41a3-85b5-c730f7f68856",
   "metadata": {},
   "source": [
    "#### The json.dumps() function is used to convert a Python data structure to a string of JSON data.\n"
   ]
  },
  {
   "cell_type": "raw",
   "id": "4d32958c-47fe-426a-a24a-d71de5e77a2b",
   "metadata": {},
   "source": [
    "import json\n",
    "\n",
    "data = {\n",
    "    \"name\": \"John\",\n",
    "    \"age\": 30,\n",
    "    \"city\": \"New York\"\n",
    "}\n",
    "\n",
    "json_data = json.dumps(data)\n",
    "print(json_data)"
   ]
  }
 ],
 "metadata": {
  "kernelspec": {
   "display_name": "Python 3 (ipykernel)",
   "language": "python",
   "name": "python3"
  },
  "language_info": {
   "codemirror_mode": {
    "name": "ipython",
    "version": 3
   },
   "file_extension": ".py",
   "mimetype": "text/x-python",
   "name": "python",
   "nbconvert_exporter": "python",
   "pygments_lexer": "ipython3",
   "version": "3.10.6"
  }
 },
 "nbformat": 4,
 "nbformat_minor": 5
}
