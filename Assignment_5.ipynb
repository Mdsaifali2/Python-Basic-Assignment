{
 "cells": [
  {
   "cell_type": "markdown",
   "id": "2253b1fa-b16e-4f3b-a302-7e9d510e6430",
   "metadata": {},
   "source": [
    "# 1. What does an empty dictionary&#39;s code look like?\n"
   ]
  },
  {
   "cell_type": "markdown",
   "id": "c43689af-abd2-44e7-b03e-a5ab4cf9ff03",
   "metadata": {},
   "source": [
    "#### my_dict = {} -> This creates an empty dictionary my_dict using curly braces {}. \n",
    "\n"
   ]
  },
  {
   "cell_type": "code",
   "execution_count": 6,
   "id": "019adb6e-96a1-4202-95a4-b894519910ab",
   "metadata": {},
   "outputs": [
    {
     "data": {
      "text/plain": [
       "dict"
      ]
     },
     "execution_count": 6,
     "metadata": {},
     "output_type": "execute_result"
    }
   ],
   "source": [
    "my_dict = {}\n",
    "type(my_dict)"
   ]
  },
  {
   "cell_type": "markdown",
   "id": "02f1d6c1-53d1-4723-8a4d-58d997b10e6a",
   "metadata": {},
   "source": [
    "# 2. What is the value of a dictionary value with the key &#39;foo&#39; and the value 42?\n"
   ]
  },
  {
   "cell_type": "code",
   "execution_count": 3,
   "id": "e0358383-7e08-4e52-b3fb-eebc1efc5b3c",
   "metadata": {},
   "outputs": [
    {
     "name": "stdout",
     "output_type": "stream",
     "text": [
      "42\n"
     ]
    }
   ],
   "source": [
    "my_dict={\"foo\":42}\n",
    "value = my_dict['foo']\n",
    "print(value)"
   ]
  },
  {
   "cell_type": "markdown",
   "id": "ac7743a7-de40-4d82-a1bd-73a08a94fbe3",
   "metadata": {},
   "source": [
    "# 3. What is the most significant distinction between a dictionary and a list?"
   ]
  },
  {
   "cell_type": "markdown",
   "id": "e163bde9-bf58-4552-a36f-ff190dd9935f",
   "metadata": {},
   "source": [
    "#### A list is an ordered collection of elements, where each element is identified by its position or index in the list. Lists are typically used to store homogeneous data, such as a series of numbers or strings."
   ]
  },
  {
   "cell_type": "markdown",
   "id": "8fb8bbb0-6b44-4b4c-b499-d00a4a9d7997",
   "metadata": {},
   "source": [
    "# 4. What happens if you try to access spam[&#39;foo&#39;] if spam is {&#39;bar&#39;: 100}?\n"
   ]
  },
  {
   "cell_type": "code",
   "execution_count": 7,
   "id": "3626ca39-29ea-459d-afe3-09e89cf20f1f",
   "metadata": {},
   "outputs": [],
   "source": [
    "spam = {'bar': 100}"
   ]
  },
  {
   "cell_type": "code",
   "execution_count": 8,
   "id": "e4377218-5c16-487b-bf4b-4d1064466921",
   "metadata": {},
   "outputs": [
    {
     "ename": "KeyError",
     "evalue": "'foo'",
     "output_type": "error",
     "traceback": [
      "\u001b[0;31m---------------------------------------------------------------------------\u001b[0m",
      "\u001b[0;31mKeyError\u001b[0m                                  Traceback (most recent call last)",
      "Cell \u001b[0;32mIn [8], line 1\u001b[0m\n\u001b[0;32m----> 1\u001b[0m \u001b[43mspam\u001b[49m\u001b[43m[\u001b[49m\u001b[38;5;124;43m'\u001b[39;49m\u001b[38;5;124;43mfoo\u001b[39;49m\u001b[38;5;124;43m'\u001b[39;49m\u001b[43m]\u001b[49m\n",
      "\u001b[0;31mKeyError\u001b[0m: 'foo'"
     ]
    }
   ],
   "source": [
    "spam['foo']"
   ]
  },
  {
   "cell_type": "markdown",
   "id": "c2f1ca87-e257-48e6-8869-7954f29e528e",
   "metadata": {},
   "source": [
    "#### it gives key Error."
   ]
  },
  {
   "cell_type": "markdown",
   "id": "ef68750e-72bd-4fa1-b121-9006bbbe9e5e",
   "metadata": {},
   "source": [
    "# 5. If a dictionary is stored in spam, what is the difference between the expressions &#39;cat&#39; in spam and &#39;cat&#39; in spam.keys()?"
   ]
  },
  {
   "cell_type": "markdown",
   "id": "9d541673-2aef-4645-9899-df4289b33357",
   "metadata": {},
   "source": [
    "#### There is no difference. The in operator checks whether a value exists as a key in the dictionary."
   ]
  },
  {
   "cell_type": "markdown",
   "id": "24e533cd-51e6-4282-b5d9-467d36ca416c",
   "metadata": {},
   "source": [
    "# 6. If a dictionary is stored in spam, what is the difference between the expressions &#39;cat&#39; in spam and &#39;cat&#39; in spam.values()?"
   ]
  },
  {
   "cell_type": "markdown",
   "id": "0409faa4-5747-409e-ad74-b392fec8c866",
   "metadata": {},
   "source": [
    "#### 'cat' in spam checks whether there is a 'cat' key in the dictionary, while 'cat' in spam.values() checks whether there is a value 'cat' for one of the keys in spam."
   ]
  },
  {
   "cell_type": "markdown",
   "id": "c9dfb577-a955-437e-8dfa-5743c3aa97e6",
   "metadata": {},
   "source": [
    "# 7. What is a shortcut for the following code?\n",
    "## if &#39;color&#39; not in spam: spam[&#39;color&#39;] = &#39;black&#39;\n"
   ]
  },
  {
   "cell_type": "markdown",
   "id": "19d7c363-250b-444b-bd65-861c9cc54070",
   "metadata": {},
   "source": [
    "#### if 'color' not in spam: spam['color'] = 'black'"
   ]
  },
  {
   "cell_type": "markdown",
   "id": "9de18d9e-0a3d-43f0-afbe-e8a3f647ed5c",
   "metadata": {},
   "source": [
    "#### spam.setdefault(\"color\",\"black\")"
   ]
  },
  {
   "cell_type": "markdown",
   "id": "347e0582-4148-4e26-8395-2a4dd8190059",
   "metadata": {},
   "source": [
    "# 8. How do you &quot;pretty print&quot; dictionary values using which module and function?"
   ]
  },
  {
   "cell_type": "markdown",
   "id": "e94f4d95-64c7-4eba-ba2a-166f17277955",
   "metadata": {},
   "source": [
    "#### By using pprint function pprint module"
   ]
  },
  {
   "cell_type": "code",
   "execution_count": 18,
   "id": "476a7fb2-88d6-4a31-80e1-7cbac5e96e4d",
   "metadata": {},
   "outputs": [],
   "source": [
    "my_dict = {\"name\": \"John\", \"age\": 30, \"city\": \"New York\"}"
   ]
  },
  {
   "cell_type": "code",
   "execution_count": 19,
   "id": "efa32f2d-736d-4412-b4a2-feb6d293906a",
   "metadata": {},
   "outputs": [],
   "source": [
    "from pprint import pprint"
   ]
  },
  {
   "cell_type": "code",
   "execution_count": 20,
   "id": "1c1ea01d-66f3-48c7-8aea-11c0983179ed",
   "metadata": {},
   "outputs": [
    {
     "name": "stdout",
     "output_type": "stream",
     "text": [
      "{'age': 30, 'city': 'New York', 'name': 'John'}\n"
     ]
    }
   ],
   "source": [
    "pprint(my_dict)"
   ]
  },
  {
   "cell_type": "code",
   "execution_count": null,
   "id": "66baeaf2-a2e6-40ef-84f0-20bb297fbb48",
   "metadata": {},
   "outputs": [],
   "source": []
  }
 ],
 "metadata": {
  "kernelspec": {
   "display_name": "Python 3 (ipykernel)",
   "language": "python",
   "name": "python3"
  },
  "language_info": {
   "codemirror_mode": {
    "name": "ipython",
    "version": 3
   },
   "file_extension": ".py",
   "mimetype": "text/x-python",
   "name": "python",
   "nbconvert_exporter": "python",
   "pygments_lexer": "ipython3",
   "version": "3.10.6"
  }
 },
 "nbformat": 4,
 "nbformat_minor": 5
}
