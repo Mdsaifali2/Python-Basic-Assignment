{
 "cells": [
  {
   "cell_type": "markdown",
   "id": "18ffcf34-ad7d-4e44-8ee9-72eee30c5015",
   "metadata": {},
   "source": [
    "# 1. To what does a relative path refer?\n"
   ]
  },
  {
   "cell_type": "markdown",
   "id": "8305426b-3e9d-4e6c-b688-873499b0b283",
   "metadata": {},
   "source": [
    "#### Relative paths are relative to the current working directory."
   ]
  },
  {
   "cell_type": "markdown",
   "id": "4df01698-a923-465a-ac5c-ad5dabbd3077",
   "metadata": {},
   "source": [
    "# 2. What does an absolute path start with your operating system?\n"
   ]
  },
  {
   "cell_type": "markdown",
   "id": "cc2da7d7-5cb4-4f57-9f50-f60ba24764ef",
   "metadata": {},
   "source": [
    "#### On Windows operating systems, an absolute path typically starts with a drive letter, followed by a colon and a backslash, such as C:\\ for the root directory of the C drive"
   ]
  },
  {
   "cell_type": "markdown",
   "id": "eea4f596-c091-4447-894c-c9e41633337f",
   "metadata": {},
   "source": [
    "# 3. What do the functions os.getcwd() and os.chdir() do?\n"
   ]
  },
  {
   "cell_type": "markdown",
   "id": "26b43441-de6a-4752-8b98-2e4e23aad8d0",
   "metadata": {},
   "source": [
    "#### os.getcwd() returns a string representing the current working directory. The current working directory is the directory in which the Python script is currently executing.\n",
    "#### os.chdir(path) is used to change the current working directory to the directory specified by path.\n"
   ]
  },
  {
   "cell_type": "markdown",
   "id": "d17b0fe7-bf3b-4fe0-a39e-4e0fcc7321d6",
   "metadata": {},
   "source": [
    "# 4. What are the . and .. folders?\n"
   ]
  },
  {
   "cell_type": "markdown",
   "id": "3be0384a-13f8-44cc-a7bf-8876c2ea1b80",
   "metadata": {},
   "source": [
    "#### The . folder is the current folder, and .. is the parent folder."
   ]
  },
  {
   "cell_type": "markdown",
   "id": "f1a1b780-f78a-43aa-b3f0-eed89f8ec17f",
   "metadata": {},
   "source": [
    "# 5. In C:\\bacon\\eggs\\spam.txt, which part is the dir name, and which part is the base name?\n"
   ]
  },
  {
   "cell_type": "markdown",
   "id": "a38394a7-c8d2-4700-875e-7a606f488f38",
   "metadata": {},
   "source": [
    "#### The directory name is C:\\bacon\\eggs\\ and the base name is spam.txt"
   ]
  },
  {
   "cell_type": "markdown",
   "id": "fda3c5fc-67ff-452a-8e82-315f17ceb96e",
   "metadata": {},
   "source": [
    "# 6. What are the three “mode” arguments that can be passed to the open() function?\n"
   ]
  },
  {
   "cell_type": "markdown",
   "id": "71e2810a-4002-4868-a49c-0a102c5f1c2e",
   "metadata": {},
   "source": [
    "#### The string 'r' for read mode, 'w' for write mode, and 'a' for append mode."
   ]
  },
  {
   "cell_type": "markdown",
   "id": "a30fed5c-c890-4d3e-9b68-aee649b8c6c9",
   "metadata": {},
   "source": [
    "# 7. What happens if an existing file is opened in write mode?\n"
   ]
  },
  {
   "cell_type": "markdown",
   "id": "76e08e45-5078-4729-87ad-e1cef9e91178",
   "metadata": {},
   "source": [
    "#### An existing file opened in write mode is erased and completely overwritten."
   ]
  },
  {
   "cell_type": "markdown",
   "id": "bf818e5e-9c48-4bc1-853a-2e615528eb17",
   "metadata": {},
   "source": [
    "# 8. How do you tell the difference between read() and readlines()?\n"
   ]
  },
  {
   "cell_type": "markdown",
   "id": "d60c5310-2d40-4f3a-a9fb-07840f8296ed",
   "metadata": {},
   "source": [
    "#### The \"read()\" method reads the entire contents of the file as a single string and returns it. If you specify a parameter, such as read(10), it will read the first 10 bytes of the file.\n",
    "#### The \"readlines()\" method reads the entire contents of the file into a list of strings, where each string is a line from the file. "
   ]
  },
  {
   "cell_type": "markdown",
   "id": "06338b3b-bf69-4edd-ac8c-2f1b21cd9848",
   "metadata": {},
   "source": [
    "# 9. What data structure does a shelf value resemble?"
   ]
  },
  {
   "cell_type": "markdown",
   "id": "3f24bacd-6e7b-428e-9ce6-38036f6b585b",
   "metadata": {},
   "source": [
    "#### In Python, a shelf is a dictionary-like object that stores its contents in a file on disk. A shelf value resembles a dictionary data structure, with keys that are strings and values that are pickled Python objects. However, unlike a dictionary, the contents of a shelf are not loaded into memory all at once. Instead, a shelf only loads the data that is accessed, which makes it more efficient for storing large amounts of data."
   ]
  },
  {
   "cell_type": "code",
   "execution_count": null,
   "id": "c793a65f-a819-479a-aa08-a3d27264ef1e",
   "metadata": {},
   "outputs": [],
   "source": []
  }
 ],
 "metadata": {
  "kernelspec": {
   "display_name": "Python 3 (ipykernel)",
   "language": "python",
   "name": "python3"
  },
  "language_info": {
   "codemirror_mode": {
    "name": "ipython",
    "version": 3
   },
   "file_extension": ".py",
   "mimetype": "text/x-python",
   "name": "python",
   "nbconvert_exporter": "python",
   "pygments_lexer": "ipython3",
   "version": "3.10.6"
  }
 },
 "nbformat": 4,
 "nbformat_minor": 5
}
