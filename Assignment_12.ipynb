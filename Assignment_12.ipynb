{
 "cells": [
  {
   "cell_type": "markdown",
   "id": "51613897-e158-4415-9fe5-c92c931b41eb",
   "metadata": {},
   "source": [
    "# 1. In what modes should the PdfFileReader() and PdfFileWriter() File objects will be opened?\n"
   ]
  },
  {
   "cell_type": "markdown",
   "id": "ab26b891-fe78-49a7-b0a9-07178d75b85a",
   "metadata": {},
   "source": [
    "#### When using PdfFileReader(), the file should be opened in read-binary mode ('rb')\n",
    "#### For Exmple :"
   ]
  },
  {
   "cell_type": "raw",
   "id": "f7e22508-3cd1-44c4-811a-bb4152c9f4e5",
   "metadata": {},
   "source": [
    "from PyPDF2 import PdfFileReader\n",
    "with open('Enter file name here', 'rb') as pdf_file:\n",
    "    pdf_reader = PdfFileReader(pdf_file)"
   ]
  },
  {
   "cell_type": "markdown",
   "id": "d82b3a33-d27e-4117-aa04-91f11204bf0a",
   "metadata": {},
   "source": [
    "#### When using PdfFileWriter(), the file should be opened in write-binary mode ('wb').\n",
    "#### For example:"
   ]
  },
  {
   "cell_type": "raw",
   "id": "316baf7e-d1c4-4731-8b3a-9c8893a5a0c9",
   "metadata": {},
   "source": [
    "from PyPDF2 import PdfFileWriter\n",
    "with open('Enter file name here', 'wb') as pdf_file:\n",
    "    pdf_writr = PdfFileWriter()\n",
    "    pdf_writr.write(pdf_file)"
   ]
  },
  {
   "cell_type": "markdown",
   "id": "0a5aced6-87e7-4f80-b295-d0e109b03369",
   "metadata": {},
   "source": [
    "# 2. From a PdfFileReader object, how do you get a Page object for page 5?\n"
   ]
  },
  {
   "cell_type": "markdown",
   "id": "08ec5504-9c3c-4181-98e7-03bd207f8bc1",
   "metadata": {},
   "source": [
    "#### To get a 'Page' object for page 5 from a 'PdfFileReader' object in Python, you can use the 'getPage()' method of the 'PdfFileReader' object and pass it the page number minus one (since page numbers start at zero).   "
   ]
  },
  {
   "cell_type": "raw",
   "id": "5b4974c8-6a6b-41bc-ba89-0504d63ffc92",
   "metadata": {},
   "source": [
    "from PyPDF2 import PdfFileReader\n",
    "with open('Enter file name here', 'rb') as f:\n",
    "    pdf_reader = PdfFileReader(f)\n",
    "    page_obj = pdf_reader.getPage(4)"
   ]
  },
  {
   "cell_type": "markdown",
   "id": "511c73f7-d3fe-4f41-a9e9-8e5a8c572f73",
   "metadata": {},
   "source": [
    "# 3. What PdfFileReader variable stores the number of pages in the PDF document?\n"
   ]
  },
  {
   "cell_type": "markdown",
   "id": "d8eefe8b-4c3f-4644-8e94-14ab1d05e6f7",
   "metadata": {},
   "source": [
    " #### using the numPages variable of a PdfFileReader object to get the number of pages in a PDF document"
   ]
  },
  {
   "cell_type": "raw",
   "id": "c9789126-fa71-4343-81ec-f50f2ab614de",
   "metadata": {},
   "source": [
    "from PyPDF2 import PdfFileReader\n",
    "with open('Enter file name here', 'rb') as f:\n",
    "    pdf_reader = PdfFileReader(f)\n",
    "    num_pages = pdf_reader.numPages"
   ]
  },
  {
   "cell_type": "markdown",
   "id": "c98fc563-54de-4f78-8297-1ccb56efd959",
   "metadata": {},
   "source": [
    "# 4. If a PdfFileReader object’s PDF is encrypted with the password swordfish, what must you do before you can obtain Page objects from it?\n"
   ]
  },
  {
   "cell_type": "markdown",
   "id": "538df279-2fe3-4e17-9fbd-9a571a21737a",
   "metadata": {},
   "source": [
    "#### If a PdfFileReader object’s PDF is encrypted with the password swordfish, you must first decrypt it using the decrypt() method and passing the password as an argument."
   ]
  },
  {
   "cell_type": "raw",
   "id": "96e5f6c2-c566-4e9a-9b1a-613d39d0eecc",
   "metadata": {},
   "source": [
    "import PyPDF2\n",
    "\n",
    "File = open('Enter file name here', 'rb')\n",
    "pdf_reader = PyPDF2.PdfFileReader(File)\n",
    "\n",
    "if pdf_reader.isEncrypted:\n",
    "    pdf_reader.decrypt('swordfish')\n",
    "\n",
    "page = pdf_reader.getPage(0)\n",
    "print(page.extractText())\n",
    "\n",
    "pdf_file.close()"
   ]
  },
  {
   "cell_type": "markdown",
   "id": "bc3f6c2b-4eaa-45d6-b76c-dac6eb6b2cb1",
   "metadata": {},
   "source": [
    "# 5. What methods do you use to rotate a page?\n"
   ]
  },
  {
   "cell_type": "markdown",
   "id": "2a47b41c-c6d3-4cb5-aa4a-279842e33153",
   "metadata": {},
   "source": [
    "#### To rotate a page in a PDF document using Python's \"PyPDF2 library\", you can use the \"rotateClockwise()\" and \"rotateCounterClockwise()\" methods of the \"PageObject\" class.\n",
    "#### For Example :"
   ]
  },
  {
   "cell_type": "raw",
   "id": "bcdb8753-0182-490d-84be-e6148a7b3461",
   "metadata": {},
   "source": [
    "import PyPDF2\n",
    "\n",
    "pdf_file = open('example.pdf', 'rb')\n",
    "pdf_reader = PyPDF2.PdfFileReader(pdf_file)\n",
    "page = pdf_reader.getPage(0)\n",
    "\n",
    "page.rotateClockwise(90)\n",
    "\n",
    "pdf_writer = PyPDF2.PdfFileWriter()\n",
    "pdf_writer.addPage(page)\n",
    "pdf_output_file = open('rotated.pdf', 'wb')\n",
    "pdf_writer.write(pdf_output_file)\n",
    "\n",
    "pdf_file.close()\n",
    "pdf_output_file.close()\n"
   ]
  },
  {
   "cell_type": "markdown",
   "id": "66254c67-4e4e-4d0b-9a3c-5efc3bba2717",
   "metadata": {},
   "source": [
    "# 6. What is the difference between a Run object and a Paragraph object?\n"
   ]
  },
  {
   "cell_type": "markdown",
   "id": "1c678ead-d063-4db6-863a-41099fa4f262",
   "metadata": {},
   "source": [
    "#### In Python's python-docx library, a Paragraph object represents a single paragraph in a Word document, while a Run object represents a contiguous run of text within a paragraph that has the same style."
   ]
  },
  {
   "cell_type": "raw",
   "id": "a2ea8cae-2bbc-4856-a884-b6af4ad52c7c",
   "metadata": {},
   "source": [
    "import docx\n",
    "\n",
    "document = docx.Document()\n",
    "page_1 = document.add_paragraph('This is the first paragraph.')\n",
    "p2 = document.add_paragraph('This is the second paragraph.', style='Heading1')\n",
    "page_1.add_run(' This text has a different style.').bold = True\n",
    "document.save('Question_6_output.docx')"
   ]
  },
  {
   "cell_type": "markdown",
   "id": "818602d5-6694-4de1-86ee-ea4f0d0ce8b2",
   "metadata": {},
   "source": [
    "# 7. How do you obtain a list of Paragraph objects for a Document object that’s stored in a variable named doc?\n"
   ]
  },
  {
   "cell_type": "markdown",
   "id": "e39cbb00-51a7-4c88-82b0-37dcb6599a05",
   "metadata": {},
   "source": [
    "#### To obtain a list of Paragraph objects for a Document object that’s stored in a variable named doc, you can use the doc.paragraphs attribute."
   ]
  },
  {
   "cell_type": "raw",
   "id": "79eab5c9-0a1e-4c40-a04d-0c3a20696a91",
   "metadata": {},
   "source": [
    "import docx\n",
    "\n",
    "document = docx.Document('my_document.docx')\n",
    "paragraphs = document.paragraphs\n",
    "for paragraph in paragraphs:\n",
    "    print(paragraph.text)\n"
   ]
  },
  {
   "cell_type": "markdown",
   "id": "3b115fe1-5a38-4ee9-b76f-e038a8099029",
   "metadata": {},
   "source": [
    "# 8. What type of object has bold, underline, italic, strike, and outline variables?\n"
   ]
  },
  {
   "cell_type": "markdown",
   "id": "3facb621-9659-4364-857a-4e096a31b624",
   "metadata": {},
   "source": [
    "#### A Run object has these variables (not a Paragraph)."
   ]
  },
  {
   "cell_type": "markdown",
   "id": "2e343f61-d433-4cf8-ad8b-86a074e27471",
   "metadata": {},
   "source": [
    "# 9. What is the difference between False, True, and None for the bold variable?\n"
   ]
  },
  {
   "cell_type": "markdown",
   "id": "7b3efa4b-9c38-40e8-aa48-2756b20bc731",
   "metadata": {},
   "source": [
    "#### Regarding the \"bold\" variable, it is not clear what it is referring to. However, assuming that it is a variable used to set the bold attribute of a text in a word processor like Microsoft Word, then \"False\" would mean that the text is not bolded, True would mean that the text is bolded, and \"None\" would mean that the bold attribute is not set or has no value. "
   ]
  },
  {
   "cell_type": "markdown",
   "id": "0bbd66d2-41ae-4bc0-b52d-dd0840e95d11",
   "metadata": {},
   "source": [
    "# 10. How do you create a Document object for a new Word document?\n"
   ]
  },
  {
   "cell_type": "markdown",
   "id": "100794d3-3cad-44ae-ae40-2a5b018099ea",
   "metadata": {},
   "source": [
    "#### Call the docx.Document() function."
   ]
  },
  {
   "cell_type": "raw",
   "id": "a9b3ac64-6bb0-472f-94c1-f1893cb7c579",
   "metadata": {},
   "source": [
    "import docx\n",
    "\n",
    "doc = docx.Document()\n",
    "doc.add_heading('New Document', level=0)\n",
    "doc.add_paragraph('This is a new document created using python.')\n",
    "doc.save('new_document.docx')"
   ]
  },
  {
   "cell_type": "markdown",
   "id": "2a466ccb-aa4a-4f99-af3a-a5bb96799539",
   "metadata": {},
   "source": [
    "# 11. How do you add a paragraph with the text &#39;Hello, there!&#39; to a Document object stored in a variable named doc?\n"
   ]
  },
  {
   "cell_type": "markdown",
   "id": "1afa5ef2-588e-4034-b44a-d68d32d61851",
   "metadata": {},
   "source": [
    " #### By using the add_paragraph() method of the Document object."
   ]
  },
  {
   "cell_type": "raw",
   "id": "076282f3-15f3-4848-9f15-88976dcb244e",
   "metadata": {},
   "source": [
    "from docx import Document\n",
    "doc = Document()\n",
    "paragraph = doc.add_paragraph('Hello, there!')\n",
    "doc.save('my_document.docx')"
   ]
  },
  {
   "cell_type": "markdown",
   "id": "641195c6-3766-4b68-ab1e-7152531554d7",
   "metadata": {},
   "source": [
    "# 12. What integers represent the levels of headings available in Word documents?"
   ]
  },
  {
   "cell_type": "markdown",
   "id": "b7e5e520-a05a-45c8-8f54-26d84fc2cdf5",
   "metadata": {},
   "source": [
    "#### integers represent the levels of headings available:\n",
    "#### 0: None\n",
    "#### 1: Heading 1\n",
    "#### 2: Heading 2\n",
    "#### 3: Heading 3\n",
    "#### 4: Heading 4\n",
    "#### 5: Heading 5\n",
    "#### 6: Heading 6\n",
    "#### 7: Heading 7\n",
    "#### 8: Heading 8\n",
    "#### 9: Heading 9"
   ]
  }
 ],
 "metadata": {
  "kernelspec": {
   "display_name": "Python 3 (ipykernel)",
   "language": "python",
   "name": "python3"
  },
  "language_info": {
   "codemirror_mode": {
    "name": "ipython",
    "version": 3
   },
   "file_extension": ".py",
   "mimetype": "text/x-python",
   "name": "python",
   "nbconvert_exporter": "python",
   "pygments_lexer": "ipython3",
   "version": "3.10.6"
  }
 },
 "nbformat": 4,
 "nbformat_minor": 5
}
