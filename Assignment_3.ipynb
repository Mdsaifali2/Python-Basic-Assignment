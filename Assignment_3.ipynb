{
 "cells": [
  {
   "cell_type": "markdown",
   "id": "796b1bd9",
   "metadata": {},
   "source": [
    "# 1. Why are functions advantageous to have in your programs?\n"
   ]
  },
  {
   "cell_type": "markdown",
   "id": "86b2dbaf-1da4-4c01-ad11-f4bc9859611d",
   "metadata": {},
   "source": [
    "##### Functions are like a set of instructions that you can use over and over again. You can define a function once, and then call it multiple times with different inputs to perform a specific task. This makes your code more modular, easier to read, and easier to maintain.\n",
    "\n",
    "##### Functions can also help to reduce code duplication, which can save time and effort in the long run."
   ]
  },
  {
   "cell_type": "markdown",
   "id": "707c802b",
   "metadata": {},
   "source": [
    "# 2. When does the code in a function run: when it&#39;s specified or when it&#39;s called?\n"
   ]
  },
  {
   "cell_type": "markdown",
   "id": "7477bfe0-0d00-4562-a6b5-a849d9d212f3",
   "metadata": {},
   "source": [
    "##### The code in a function executes when the function is called, not when the function is defined.\n"
   ]
  },
  {
   "cell_type": "markdown",
   "id": "9beb5c08",
   "metadata": {},
   "source": [
    "# 3. What statement creates a function?\n"
   ]
  },
  {
   "cell_type": "markdown",
   "id": "920d290a-335c-4b62-ac56-73f70b46fa7b",
   "metadata": {},
   "source": [
    "##### In Python, the def statement is used to create a function.\n",
    "\n",
    "##### The def statement is followed by the name of the function, a set of parentheses, and a colon. Any code that belongs to the function is indented below the def statement, and is part of the function's code block.\n",
    "\n",
    "##### Once you have defined a function using the def statement, you can call it from anywhere in your code using the function name followed by parentheses."
   ]
  },
  {
   "cell_type": "markdown",
   "id": "9664a2b0",
   "metadata": {},
   "source": [
    "# 4. What is the difference between a function and a function call?\n"
   ]
  },
  {
   "cell_type": "markdown",
   "id": "06217e96-3fdb-4c36-add2-e04b55a3d1f7",
   "metadata": {},
   "source": [
    "##### In Python, a function is a block of code that performs a specific task when called. It is like a blueprint or a set of instructions that tells Python what to do when the function is called.\n",
    "\n",
    "##### On the other hand, a function call is the actual execution of a function. When you call a function, you are telling Python to run the code inside the function and perform the specific task that the function was designed to do.\n",
    "\n",
    "##### a function is a block of code that defines a specific task, while a function call is the actual execution of that code to perform the task."
   ]
  },
  {
   "cell_type": "markdown",
   "id": "68056bcc",
   "metadata": {},
   "source": [
    "# 5. How many global scopes are there in a Python program? How many local scopes?\n"
   ]
  },
  {
   "cell_type": "markdown",
   "id": "40ee5c55-aff1-4cc9-a575-ddb24cbef46e",
   "metadata": {},
   "source": [
    "##### In a Python program, there is only one global scope, which is the outermost scope in the program.\n",
    "\n",
    "##### All variables defined outside of any function or class definition belong to the global scope, and can be accessed from anywhere in the program. Variables defined in the global scope are also known as global variables.\n",
    "\n",
    "##### On the other hand, the number of local scopes in a Python program depends on how many functions are defined in the program.\n",
    "\n",
    "##### Each time a function is called, a new local scope is created for that function. This means that the variables defined inside a function belong to its local scope, and can only be accessed within that function or its nested functions.\n",
    "\n",
    "##### there is only one global scope in a Python program, while the number of local scopes depends on how many functions are defined in the program."
   ]
  },
  {
   "cell_type": "markdown",
   "id": "9b62950a",
   "metadata": {},
   "source": [
    "# 6. What happens to variables in a local scope when the function call returns?\n"
   ]
  },
  {
   "cell_type": "markdown",
   "id": "c663ed9f-8069-4427-b6d2-cae5d73058fb",
   "metadata": {},
   "source": [
    "##### When a function call returns, the local scope of that function is destroyed and any variables defined within it are lost. This means that the variables defined in the local scope of a function only exist as long as the function is running.\n",
    "\n",
    "##### It is important to note that global variables are not affected by the creation and destruction of local scopes."
   ]
  },
  {
   "cell_type": "markdown",
   "id": "12d03678",
   "metadata": {},
   "source": [
    "# 7. What is the concept of a return value? Is it possible to have a return value in an expression?\n"
   ]
  },
  {
   "cell_type": "markdown",
   "id": "c579e948-66f1-4337-a4f9-2a52d2be2a8b",
   "metadata": {},
   "source": [
    "##### A return value is a value that a function sends back to the code that called it, after the function has completed its task. The concept of a return value is used to pass data from a function back to the calling code.\n",
    "\n",
    "##### Yes, it is possible to have a return value in an expression. In fact, a function call can be used as an expression in Python. When a function call is used as an expression, the function's return value is used as the value of the expression."
   ]
  },
  {
   "cell_type": "markdown",
   "id": "d41cad7c",
   "metadata": {},
   "source": [
    "# 8. If a function does not have a return statement, what is the return value of a call to that function?\n"
   ]
  },
  {
   "cell_type": "markdown",
   "id": "ac94071f-dbde-4cc9-8bec-9910fd8e2db6",
   "metadata": {},
   "source": [
    "##### If a function does not have a return statement, the return value of a call to that function is None.\n",
    "\n",
    "##### If a function completes its execution without encountering a return statement, it implicitly returns None."
   ]
  },
  {
   "cell_type": "markdown",
   "id": "f4eb3b2a",
   "metadata": {},
   "source": [
    "# 9. How do you make a function variable refer to the global variable?\n"
   ]
  },
  {
   "cell_type": "markdown",
   "id": "4b65153c-2d30-4ddb-975e-5ba7647f56e5",
   "metadata": {},
   "source": [
    "##### if you want to use a global variable inside a function, you can use the global keyword to declare the variable as a global variable. This tells Python to use the global variable with the same name as the variable defined inside the function."
   ]
  },
  {
   "cell_type": "markdown",
   "id": "548681fe",
   "metadata": {},
   "source": [
    "# 10. What is the data type of None?\n"
   ]
  },
  {
   "cell_type": "markdown",
   "id": "83d55100-c8c6-4f64-b83d-00acaa0c8d34",
   "metadata": {},
   "source": [
    "##### None is a special value that represents the absence of a value or the null value. It is not a string or a boolean or a number or any other data type. It is a unique data type of its own, called the NoneType. The NoneType has only one possible value, which is None."
   ]
  },
  {
   "cell_type": "markdown",
   "id": "3cb69e77",
   "metadata": {},
   "source": [
    "# 11. What does the sentence import areallyourpetsnamederic do?\n"
   ]
  },
  {
   "cell_type": "markdown",
   "id": "eed1e0a2-030e-400c-94ac-16cb8a7b991d",
   "metadata": {},
   "source": [
    "##### The statement import areallyourpetsnamederic in Python attempts to import a module named areallyourpetsnamederic.\n",
    "\n",
    "##### If there is a file named areallyourpetsnamederic.py in the same directory as your Python script, the import statement will load its definitions into your program. If the file does not exist or there is an error in the module, an error will be raised at the import statement.\n",
    "\n",
    "##### Note that the name areallyourpetsnamederic is not a standard or commonly used module name in Python. It is just an example of a module name."
   ]
  },
  {
   "cell_type": "markdown",
   "id": "6cc1c980",
   "metadata": {},
   "source": [
    "# 12. If you had a bacon() feature in a spam module, what would you call it after importing spam?\n"
   ]
  },
  {
   "cell_type": "markdown",
   "id": "2fcfcdea-d676-4720-a109-25c0b7fc4920",
   "metadata": {},
   "source": [
    "##### This function can be called by spam.bacon()."
   ]
  },
  {
   "cell_type": "markdown",
   "id": "e911b0cc",
   "metadata": {},
   "source": [
    "# 13. What can you do to save a programme from crashing if it encounters an error?\n"
   ]
  },
  {
   "cell_type": "markdown",
   "id": "ad6718e7-2c23-4801-ab82-fda8f22ce5f2",
   "metadata": {},
   "source": [
    "##### To save a program from crashing due to an error in Python, you can use a try-except block."
   ]
  },
  {
   "cell_type": "markdown",
   "id": "e476bd6f",
   "metadata": {},
   "source": [
    "# 14. What is the purpose of the try clause? What is the purpose of the except clause?"
   ]
  },
  {
   "cell_type": "markdown",
   "id": "9cd3e7d0-b318-4cc0-b7f6-841d6fbb13e3",
   "metadata": {},
   "source": [
    "##### The purpose of the try clause in Python is to enclose the code that may raise an error, and the purpose of the except clause is to handle the error if it occurs, allowing the program to continue running instead of crashing."
   ]
  }
 ],
 "metadata": {
  "kernelspec": {
   "display_name": "Python 3 (ipykernel)",
   "language": "python",
   "name": "python3"
  },
  "language_info": {
   "codemirror_mode": {
    "name": "ipython",
    "version": 3
   },
   "file_extension": ".py",
   "mimetype": "text/x-python",
   "name": "python",
   "nbconvert_exporter": "python",
   "pygments_lexer": "ipython3",
   "version": "3.10.6"
  }
 },
 "nbformat": 4,
 "nbformat_minor": 5
}
