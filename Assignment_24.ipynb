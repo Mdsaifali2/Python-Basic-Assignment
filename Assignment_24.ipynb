{
 "cells": [
  {
   "attachments": {},
   "cell_type": "markdown",
   "id": "4dec522f-dfb3-4e0e-a276-ba908ee2ff69",
   "metadata": {},
   "source": [
    "# 1. What is the relationship between def statements and lambda expressions ?\n"
   ]
  },
  {
   "attachments": {},
   "cell_type": "markdown",
   "id": "36e3dff1",
   "metadata": {},
   "source": [
    "#### A \"def\" statement is used to define a named function with a block of code that performs a particular task.\n",
    "\n",
    "#### a \"lambda expression\" is an anonymous function that is defined on a single line. "
   ]
  },
  {
   "attachments": {},
   "cell_type": "markdown",
   "id": "11ff3286",
   "metadata": {},
   "source": [
    "# 2. What is the benefit of lambda?\n"
   ]
  },
  {
   "attachments": {},
   "cell_type": "markdown",
   "id": "d48c78a6",
   "metadata": {},
   "source": [
    "#### The main benefit of using lambda functions is that they allow you to create small, one-line functions on-the-fly, without having to define a separate function using the \"def\" statement. This can make code shorter, more concise, and easier to read, especially when working with functions that are only needed in one specific place."
   ]
  },
  {
   "cell_type": "code",
   "execution_count": 3,
   "id": "f25aaf0f",
   "metadata": {},
   "outputs": [
    {
     "name": "stdout",
     "output_type": "stream",
     "text": [
      "15\n"
     ]
    }
   ],
   "source": [
    "my_list = [1, 2, 3, 4, 5]\n",
    "total = lambda x : sum(x)\n",
    "print(total(my_list))"
   ]
  },
  {
   "attachments": {},
   "cell_type": "markdown",
   "id": "930b362e",
   "metadata": {},
   "source": [
    "# 3. Compare and contrast map, filter, and reduce.\n"
   ]
  },
  {
   "attachments": {},
   "cell_type": "markdown",
   "id": "0ea14c26",
   "metadata": {},
   "source": [
    "#### \"map()\", \"filter()\", and \"reduce()\" are three built-in Python functions that allow for functional programming. While they all operate on iterables and return a new iterable, they differ in their behavior and use cases."
   ]
  },
  {
   "attachments": {},
   "cell_type": "markdown",
   "id": "d69c548f",
   "metadata": {},
   "source": [
    "#### 1. map() : It applies a function to every element in an iterable and returns a new iterable with the results. It is used when we need to apply the same operation to every element in an iterable."
   ]
  },
  {
   "cell_type": "code",
   "execution_count": 4,
   "id": "530c7e1e",
   "metadata": {},
   "outputs": [
    {
     "name": "stdout",
     "output_type": "stream",
     "text": [
      "[1, 4, 9, 16, 25]\n"
     ]
    }
   ],
   "source": [
    "numbers = [1, 2, 3, 4, 5]\n",
    "squared_numbers = list(map(lambda x: x**2, numbers))\n",
    "print(squared_numbers)"
   ]
  },
  {
   "attachments": {},
   "cell_type": "markdown",
   "id": "1b1a25c5",
   "metadata": {},
   "source": [
    "#### 2. filter(): It applies a function to every element in an iterable and returns a new iterable with the elements for which the function returns True. It is used when we need to filter out some elements from an iterable based on some condition."
   ]
  },
  {
   "cell_type": "code",
   "execution_count": 5,
   "id": "280a6827",
   "metadata": {},
   "outputs": [
    {
     "name": "stdout",
     "output_type": "stream",
     "text": [
      "[2, 4]\n"
     ]
    }
   ],
   "source": [
    "numbers = [1, 2, 3, 4, 5]\n",
    "even_numbers = list(filter(lambda x: x%2 == 0, numbers))\n",
    "print(even_numbers)"
   ]
  },
  {
   "attachments": {},
   "cell_type": "markdown",
   "id": "49b15282",
   "metadata": {},
   "source": [
    "#### 3. reduce(): It applies a function cumulatively to the elements of an iterable, reducing them to a single value. It is used when we need to combine all the elements in an iterable using some operation."
   ]
  },
  {
   "cell_type": "code",
   "execution_count": 7,
   "id": "a61d5670",
   "metadata": {},
   "outputs": [
    {
     "name": "stdout",
     "output_type": "stream",
     "text": [
      "120\n"
     ]
    }
   ],
   "source": [
    "from functools import reduce\n",
    "numbers = [1, 2, 3, 4, 5]\n",
    "product = reduce(lambda x, y: x*y, numbers)\n",
    "print(product)"
   ]
  },
  {
   "attachments": {},
   "cell_type": "markdown",
   "id": "0eeb1fa4",
   "metadata": {},
   "source": [
    "# 4. What are function annotations, and how are they used?\n"
   ]
  },
  {
   "attachments": {},
   "cell_type": "markdown",
   "id": "99685311",
   "metadata": {},
   "source": [
    "#### Function annotations are a way to add metadata to the parameters and return values of a function.\n",
    "#### Annotations are defined using the syntax parameter: annotation after the parameter name and a -> followed by the return type annotation at the end of the function definition."
   ]
  },
  {
   "cell_type": "code",
   "execution_count": 10,
   "id": "5ab7cf20",
   "metadata": {},
   "outputs": [],
   "source": [
    "def add(a: float, b: float) -> float:\n",
    "    return a+b\n"
   ]
  },
  {
   "cell_type": "code",
   "execution_count": 12,
   "id": "97958579",
   "metadata": {},
   "outputs": [
    {
     "name": "stdout",
     "output_type": "stream",
     "text": [
      "{'a': <class 'float'>, 'b': <class 'float'>, 'return': <class 'float'>}\n"
     ]
    }
   ],
   "source": [
    "print(add.__annotations__)"
   ]
  },
  {
   "attachments": {},
   "cell_type": "markdown",
   "id": "fd4504ee",
   "metadata": {},
   "source": [
    "# 5. What are recursive functions, and how are they used?\n"
   ]
  },
  {
   "attachments": {},
   "cell_type": "markdown",
   "id": "20baf652",
   "metadata": {},
   "source": [
    "#### A recursive function is a function that calls itself during its execution. \n",
    "#### This means that the function will continue to call itself and repeat its behavior until some condition is met to return a result"
   ]
  },
  {
   "cell_type": "code",
   "execution_count": 15,
   "id": "fc31e974",
   "metadata": {},
   "outputs": [
    {
     "data": {
      "text/plain": [
       "120"
      ]
     },
     "execution_count": 15,
     "metadata": {},
     "output_type": "execute_result"
    }
   ],
   "source": [
    "def factorial(x : int) -> int :\n",
    "    if x==1 or x==0:\n",
    "        return 1\n",
    "    else:\n",
    "        return x * factorial(x-1)\n",
    "    \n",
    "factorial(5)"
   ]
  },
  {
   "attachments": {},
   "cell_type": "markdown",
   "id": "5a643871",
   "metadata": {},
   "source": [
    "# 6. What are some general design guidelines for coding functions?\n"
   ]
  },
  {
   "attachments": {},
   "cell_type": "markdown",
   "id": "14006e9f",
   "metadata": {},
   "source": [
    "##### 1. Naming Conventions\n",
    "##### 2. Use docstrings\n",
    "##### 3. Characters that should not be used for identifiers : ‘l’ (lowercase letter el), ‘O’ (uppercase letter oh),  one and zero. \n",
    "##### 4. Use of regular and updated comments are valuable to both the coders and users\n",
    "##### 5. Use of trailing commas : in case of tuple -> ('good',)\n",
    "##### 6. Use Python’s default UTF-8 or ASCII encodings and not any fancy encodings\n",
    "##### 7. Name your classes and functions consistently\n",
    "##### 8. Wrap linethat they don’t exceed 79 characters\n",
    "##### 9. Don’t use non-ASCII characters in identifiers\n",
    "##### 10. Use 4-space indentation and no tabs.\n",
    "##### 11. While naming of function of methods always use self for the first argument"
   ]
  },
  {
   "attachments": {},
   "cell_type": "markdown",
   "id": "8e3eefb9",
   "metadata": {},
   "source": [
    "# 7. Name three or more ways that functions can communicate results to a caller."
   ]
  },
  {
   "attachments": {},
   "cell_type": "markdown",
   "id": "83687b7d",
   "metadata": {},
   "source": [
    "#### 1. Return statement: A function can use the return statement to send a value or object back to the caller.\n",
    "#### 2. Global variables: A function can modify the value of a global variable and the caller can access that value.\n",
    "#### 3. Print statement: A function can print out the result directly to the console or a file.\n",
    "#### 4. Exception handling: A function can raise an exception to signal an error or an unexpected situation to the caller.\n",
    "#### 5. Callback functions: A function can receive another function as an argument and call it to pass the result."
   ]
  }
 ],
 "metadata": {
  "kernelspec": {
   "display_name": "Python 3 (ipykernel)",
   "language": "python",
   "name": "python3"
  },
  "language_info": {
   "codemirror_mode": {
    "name": "ipython",
    "version": 3
   },
   "file_extension": ".py",
   "mimetype": "text/x-python",
   "name": "python",
   "nbconvert_exporter": "python",
   "pygments_lexer": "ipython3",
   "version": "3.8.0"
  }
 },
 "nbformat": 4,
 "nbformat_minor": 5
}
