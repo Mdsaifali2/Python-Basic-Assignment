{
 "cells": [
  {
   "cell_type": "markdown",
   "id": "67059b6b-b145-48f2-b146-21b14aa8c40b",
   "metadata": {},
   "source": [
    "# 1. What are escape characters, and how do you use them?"
   ]
  },
  {
   "cell_type": "markdown",
   "id": "8a625f2e-bdab-43fe-8369-5f3609795c4c",
   "metadata": {},
   "source": [
    "#### Escape characters are special characters that are used to represent certain characters or actions in a string.\n",
    "#### In Python, escape characters are represented by a backslash \\ followed by a character or sequence of characters. Here are some commonly used escape characters in Python:\n",
    "#### \\n: represents a new line\n",
    "#### \\t: represents a tab\n",
    "#### \\\\: represents a backslash\n",
    "#### \\': represents a single quote\n",
    "#### \\\": represents a double quote"
   ]
  },
  {
   "cell_type": "markdown",
   "id": "b150b3d2-06e4-4db9-b644-c58cad04c2c5",
   "metadata": {},
   "source": [
    "# 2. What do the escape characters n and t stand for?"
   ]
  },
  {
   "cell_type": "markdown",
   "id": "7ac4e737-629d-41a0-8823-e1f2b7c8884a",
   "metadata": {},
   "source": [
    "#### \\n: represents a new line\n",
    "#### \\t: represents a tab"
   ]
  },
  {
   "cell_type": "markdown",
   "id": "79d40e97-d702-4348-bd1b-7fd57fd4c5d4",
   "metadata": {},
   "source": [
    "# 3. What is the way to include backslash characters in a string?\n"
   ]
  },
  {
   "cell_type": "markdown",
   "id": "20791068-f7e6-4a9c-937a-fd438402f4d7",
   "metadata": {},
   "source": [
    "#### The \\ escape character will represent a backslash character."
   ]
  },
  {
   "cell_type": "markdown",
   "id": "1d1d54fa-75ab-4ea9-973f-6d50d77dbf77",
   "metadata": {},
   "source": [
    "# 4. The string &quot;Howl&#39;s Moving Castle&quot; is a correct value. Why isn&#39;t the single quote character in the word Howl&#39;s not escaped a problem?\n"
   ]
  },
  {
   "cell_type": "markdown",
   "id": "015e783a-43a8-42e4-a320-c7f1cc52bd97",
   "metadata": {},
   "source": [
    "#### because we have used double quotes to mark the beginning and end of the string."
   ]
  },
  {
   "cell_type": "markdown",
   "id": "d37c11ac-8d81-4534-875a-887eeb7fb151",
   "metadata": {},
   "source": [
    "# 5. How do you write a string of newlines if you don&#39;t want to use the n character?\n"
   ]
  },
  {
   "cell_type": "markdown",
   "id": "8904a362-d480-4605-a0fd-c395c993bdf0",
   "metadata": {},
   "source": [
    "#### If you want to write a string of newlines without using the \\n character, you can use the os module in Python to get the newline character for your operating system.\n",
    "#### The os module provides a \"linesep\" variable that contains the appropriate newline character for the current platform."
   ]
  },
  {
   "cell_type": "code",
   "execution_count": 13,
   "id": "87277740-51be-4efd-911e-220cf6e786bc",
   "metadata": {},
   "outputs": [
    {
     "name": "stdout",
     "output_type": "stream",
     "text": [
      "This is a string.\n",
      "This is another string.\n"
     ]
    }
   ],
   "source": [
    "import os\n",
    "print(f\"This is a string.{os.linesep}This is another string.\")"
   ]
  },
  {
   "cell_type": "markdown",
   "id": "9426d4b9-fd3f-4809-8afb-5a1225333950",
   "metadata": {},
   "source": [
    "# 6. What are the values of the given expressions?\n",
    "## &#39;Hello, world!&#39;[1]\n",
    "## &#39;Hello, world!&#39;[0:5]\n",
    "## &#39;Hello, world!&#39;[:5]\n",
    "## &#39;Hello, world!&#39;[3:]\n"
   ]
  },
  {
   "cell_type": "code",
   "execution_count": 15,
   "id": "6015f804-94c2-4412-8a3b-7d4f201b7c19",
   "metadata": {},
   "outputs": [
    {
     "data": {
      "text/plain": [
       "'e'"
      ]
     },
     "execution_count": 15,
     "metadata": {},
     "output_type": "execute_result"
    }
   ],
   "source": [
    "'Hello, world!'[1]"
   ]
  },
  {
   "cell_type": "code",
   "execution_count": 16,
   "id": "9810b5fa-3619-45b4-90c5-7ff5f3b234b3",
   "metadata": {},
   "outputs": [
    {
     "data": {
      "text/plain": [
       "'Hello'"
      ]
     },
     "execution_count": 16,
     "metadata": {},
     "output_type": "execute_result"
    }
   ],
   "source": [
    "'Hello, world!'[0:5]"
   ]
  },
  {
   "cell_type": "code",
   "execution_count": 17,
   "id": "2a171966-995a-45d6-a645-7f235fd00645",
   "metadata": {},
   "outputs": [
    {
     "data": {
      "text/plain": [
       "'Hello'"
      ]
     },
     "execution_count": 17,
     "metadata": {},
     "output_type": "execute_result"
    }
   ],
   "source": [
    "'Hello, world!'[:5]"
   ]
  },
  {
   "cell_type": "code",
   "execution_count": 18,
   "id": "093f0ad1-5d57-425c-a63d-04bdb8f4753b",
   "metadata": {},
   "outputs": [
    {
     "data": {
      "text/plain": [
       "'lo, world!'"
      ]
     },
     "execution_count": 18,
     "metadata": {},
     "output_type": "execute_result"
    }
   ],
   "source": [
    "'Hello, world!'[3:]"
   ]
  },
  {
   "cell_type": "markdown",
   "id": "a809dcd1-025d-43d3-904b-ed220d430010",
   "metadata": {},
   "source": [
    "# 7. What are the values of the following expressions?\n",
    "### &#39;Hello&#39;.upper()\n",
    "### &#39;Hello&#39;.upper().isupper()\n",
    "### &#39;Hello&#39;.upper().lower()\n"
   ]
  },
  {
   "cell_type": "code",
   "execution_count": 19,
   "id": "d21ca39d-5889-430c-b929-3d9be482d44c",
   "metadata": {},
   "outputs": [
    {
     "data": {
      "text/plain": [
       "'HELLO'"
      ]
     },
     "execution_count": 19,
     "metadata": {},
     "output_type": "execute_result"
    }
   ],
   "source": [
    "'Hello'.upper()"
   ]
  },
  {
   "cell_type": "code",
   "execution_count": 20,
   "id": "30e12a18-6a30-4f3c-a953-113bc90bfddd",
   "metadata": {},
   "outputs": [
    {
     "data": {
      "text/plain": [
       "True"
      ]
     },
     "execution_count": 20,
     "metadata": {},
     "output_type": "execute_result"
    }
   ],
   "source": [
    "'Hello'.upper().isupper()"
   ]
  },
  {
   "cell_type": "code",
   "execution_count": 21,
   "id": "7d10478b-7612-4cba-84ea-489646436066",
   "metadata": {},
   "outputs": [
    {
     "data": {
      "text/plain": [
       "'hello'"
      ]
     },
     "execution_count": 21,
     "metadata": {},
     "output_type": "execute_result"
    }
   ],
   "source": [
    "'Hello'.upper().lower()"
   ]
  },
  {
   "cell_type": "markdown",
   "id": "d33ad02f-3f2e-41f9-8de4-4d2039318fc7",
   "metadata": {},
   "source": [
    "# 8. What are the values of the following expressions?\n",
    "### &#39;Remember, remember, the fifth of July.&#39;.split()\n",
    "### &#39;-&#39;.join(&#39;There can only one.&#39;.split())\n"
   ]
  },
  {
   "cell_type": "code",
   "execution_count": 22,
   "id": "308484b0-2e03-4b6b-b925-42b01ad7fcfd",
   "metadata": {},
   "outputs": [
    {
     "data": {
      "text/plain": [
       "['Remember,', 'remember,', 'the', 'fifth', 'of', 'July.']"
      ]
     },
     "execution_count": 22,
     "metadata": {},
     "output_type": "execute_result"
    }
   ],
   "source": [
    "'Remember, remember, the fifth of July.'.split()"
   ]
  },
  {
   "cell_type": "code",
   "execution_count": 23,
   "id": "7c0b5120-53b5-40aa-9061-2d153756cff3",
   "metadata": {},
   "outputs": [
    {
     "data": {
      "text/plain": [
       "'There-can-only-one.'"
      ]
     },
     "execution_count": 23,
     "metadata": {},
     "output_type": "execute_result"
    }
   ],
   "source": [
    "'-'.join('There can only one.'.split())"
   ]
  },
  {
   "cell_type": "markdown",
   "id": "d77d835d-6eda-4919-a6fe-19323d396dd6",
   "metadata": {},
   "source": [
    "# 9. What are the methods for right-justifying, left-justifying, and centering a string?\n"
   ]
  },
  {
   "cell_type": "markdown",
   "id": "de7d95cc-e516-4c8a-8a11-74a935cb7853",
   "metadata": {},
   "source": [
    "#### rjust(), ljust(), and center() methods to left-justify, right-justify, and center a string."
   ]
  },
  {
   "cell_type": "code",
   "execution_count": 28,
   "id": "cc7a17f6-173f-48bb-ace4-afa622df089a",
   "metadata": {},
   "outputs": [
    {
     "data": {
      "text/plain": [
       "'   the fifth of July'"
      ]
     },
     "execution_count": 28,
     "metadata": {},
     "output_type": "execute_result"
    }
   ],
   "source": [
    "\"the fifth of July\".rjust(20)"
   ]
  },
  {
   "cell_type": "code",
   "execution_count": 33,
   "id": "558badd8-0422-47e9-872c-169ddd451bb4",
   "metadata": {},
   "outputs": [
    {
     "data": {
      "text/plain": [
       "'the fifth of July'"
      ]
     },
     "execution_count": 33,
     "metadata": {},
     "output_type": "execute_result"
    }
   ],
   "source": [
    "\"the fifth of July\".ljust(10)"
   ]
  },
  {
   "cell_type": "code",
   "execution_count": 36,
   "id": "25ce617d-10c4-4708-abb3-e8b45422ca28",
   "metadata": {},
   "outputs": [
    {
     "data": {
      "text/plain": [
       "' the fifth of July  '"
      ]
     },
     "execution_count": 36,
     "metadata": {},
     "output_type": "execute_result"
    }
   ],
   "source": [
    "\"the fifth of July\".center(20)"
   ]
  },
  {
   "cell_type": "markdown",
   "id": "f501b8c8-362a-4ca2-be65-47bf66f11cbd",
   "metadata": {},
   "source": [
    "# 10. What is the best way to remove whitespace characters from the start or end?"
   ]
  },
  {
   "cell_type": "markdown",
   "id": "58fc6650-1480-4443-a02d-1b4bfe25fac2",
   "metadata": {},
   "source": [
    "#### The lstrip() and rstrip() methods remove whitespace from the left and right ends of a string, respectively."
   ]
  }
 ],
 "metadata": {
  "kernelspec": {
   "display_name": "Python 3 (ipykernel)",
   "language": "python",
   "name": "python3"
  },
  "language_info": {
   "codemirror_mode": {
    "name": "ipython",
    "version": 3
   },
   "file_extension": ".py",
   "mimetype": "text/x-python",
   "name": "python",
   "nbconvert_exporter": "python",
   "pygments_lexer": "ipython3",
   "version": "3.10.6"
  }
 },
 "nbformat": 4,
 "nbformat_minor": 5
}
