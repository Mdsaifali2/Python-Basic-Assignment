{
 "cells": [
  {
   "attachments": {},
   "cell_type": "markdown",
   "id": "17ea13ac-7357-466e-85d8-a386cb6e204b",
   "metadata": {},
   "source": [
    "# 1. Add the current date to the text file today.txt as a string.\n"
   ]
  },
  {
   "cell_type": "code",
   "execution_count": 1,
   "id": "8bc23e78-5ce0-4d58-a5c1-d81544c2be4d",
   "metadata": {},
   "outputs": [],
   "source": [
    "import datetime"
   ]
  },
  {
   "cell_type": "code",
   "execution_count": 2,
   "id": "577f41f2-feac-40f0-b373-811aa95ebfcf",
   "metadata": {},
   "outputs": [],
   "source": [
    "date  = datetime.date.today()"
   ]
  },
  {
   "cell_type": "code",
   "execution_count": 3,
   "id": "18906169-a302-4a53-9654-077e678121b0",
   "metadata": {},
   "outputs": [],
   "source": [
    "current_date = date.isoformat()"
   ]
  },
  {
   "cell_type": "code",
   "execution_count": 4,
   "id": "a750719b-bf16-4d92-8fcf-7c08a394fdc1",
   "metadata": {},
   "outputs": [],
   "source": [
    "with open(\"today.txt\", \"wt\") as f:\n",
    "    f.write(current_date)"
   ]
  },
  {
   "attachments": {},
   "cell_type": "markdown",
   "id": "ce61e16b-0cef-4ed2-89c8-48aee966df2d",
   "metadata": {},
   "source": [
    "# 2. Read the text file today.txt into the string today_string\n"
   ]
  },
  {
   "cell_type": "code",
   "execution_count": 5,
   "id": "131791a5-76bc-4742-8072-ac84ce2e9b48",
   "metadata": {},
   "outputs": [],
   "source": [
    "with open(\"today.txt\", \"r\") as f:\n",
    "    today_string = f.read()"
   ]
  },
  {
   "cell_type": "code",
   "execution_count": 6,
   "id": "9da7fa08-903e-400b-bf5b-c09725ad9e74",
   "metadata": {},
   "outputs": [
    {
     "name": "stdout",
     "output_type": "stream",
     "text": [
      "2023-05-09\n"
     ]
    }
   ],
   "source": [
    "print(today_string)"
   ]
  },
  {
   "attachments": {},
   "cell_type": "markdown",
   "id": "a9a93a59-c408-4cb9-bbed-9f2fe50a36a8",
   "metadata": {},
   "source": [
    "# 3. Parse the date from today_string.\n"
   ]
  },
  {
   "cell_type": "code",
   "execution_count": 7,
   "id": "800a385a-dc1d-46e6-8c52-fd25a1054ade",
   "metadata": {},
   "outputs": [],
   "source": [
    "date_obj = datetime.datetime.strptime(today_string, '%Y-%m-%d').date()"
   ]
  },
  {
   "cell_type": "code",
   "execution_count": 30,
   "id": "34e1c01b-ec37-43b6-84d0-30152b73aa19",
   "metadata": {},
   "outputs": [
    {
     "data": {
      "text/plain": [
       "datetime.date(2023, 5, 9)"
      ]
     },
     "execution_count": 30,
     "metadata": {},
     "output_type": "execute_result"
    }
   ],
   "source": [
    "date_obj"
   ]
  },
  {
   "attachments": {},
   "cell_type": "markdown",
   "id": "03f6f8a1-8ac9-4df8-817d-851fb88c39fc",
   "metadata": {},
   "source": [
    "# 4. List the files in your current directory\n"
   ]
  },
  {
   "cell_type": "code",
   "execution_count": 8,
   "id": "b0138f12-9baa-4214-9979-7c460b53a05d",
   "metadata": {},
   "outputs": [],
   "source": [
    "import os"
   ]
  },
  {
   "cell_type": "code",
   "execution_count": 9,
   "id": "df082298-b5b6-49ac-a6ab-5cf28ef89f41",
   "metadata": {},
   "outputs": [
    {
     "data": {
      "text/plain": [
       "['.git',\n",
       " '.ipynb_checkpoints',\n",
       " 'Assignment_1.ipynb',\n",
       " 'Assignment_10.ipynb',\n",
       " 'Assignment_11.ipynb',\n",
       " 'Assignment_12.ipynb',\n",
       " 'Assignment_13.ipynb',\n",
       " 'Assignment_14.ipynb',\n",
       " 'Assignment_15.ipynb',\n",
       " 'Assignment_16.ipynb',\n",
       " 'Assignment_17.ipynb',\n",
       " 'Assignment_18.ipynb',\n",
       " 'Assignment_19.ipynb',\n",
       " 'Assignment_2.ipynb',\n",
       " 'Assignment_20.ipynb',\n",
       " 'Assignment_21.ipynb',\n",
       " 'Assignment_22.ipynb',\n",
       " 'Assignment_23.ipynb',\n",
       " 'Assignment_24.ipynb',\n",
       " 'Assignment_25.ipynb',\n",
       " 'Assignment_3.ipynb',\n",
       " 'Assignment_4.ipynb',\n",
       " 'Assignment_5.ipynb',\n",
       " 'Assignment_6.ipynb',\n",
       " 'Assignment_7.ipynb',\n",
       " 'Assignment_8.ipynb',\n",
       " 'Assignment_9.ipynb',\n",
       " 'books.csv',\n",
       " 'books.db',\n",
       " 'car.jpg',\n",
       " 'deli_lineTerm_example.csv',\n",
       " 'flower-1.jpg',\n",
       " 'istockphoto-916989044-170667a.jpg',\n",
       " 'modified.jpg',\n",
       " 'mydata.bak',\n",
       " 'mydata.dat',\n",
       " 'mydata.dir',\n",
       " 'new_car.png',\n",
       " 'output.csv',\n",
       " 'pillow_shape_draw.jpg',\n",
       " 'roses.jpg',\n",
       " 'symbology-of-the-number-of-roses-in-a-bouquet-verdissimo.jpg',\n",
       " 'test.txt',\n",
       " 'today.txt',\n",
       " 'zoo.py']"
      ]
     },
     "execution_count": 9,
     "metadata": {},
     "output_type": "execute_result"
    }
   ],
   "source": [
    "os.listdir()"
   ]
  },
  {
   "attachments": {},
   "cell_type": "markdown",
   "id": "379b541c-828e-4649-880d-341a2c7dc564",
   "metadata": {},
   "source": [
    "# 5. Create a list of all of the files in your parent directory (minimum five files should be available).\n"
   ]
  },
  {
   "cell_type": "code",
   "execution_count": 15,
   "id": "f4bd1c62-d7b2-454d-93ae-d4f916ffce65",
   "metadata": {},
   "outputs": [],
   "source": [
    "import os"
   ]
  },
  {
   "cell_type": "code",
   "execution_count": 16,
   "id": "ff2465d7-a9d4-4e2e-8e7b-c2c111aeb537",
   "metadata": {},
   "outputs": [],
   "source": [
    "files = os.listdir('..')"
   ]
  },
  {
   "cell_type": "code",
   "execution_count": 17,
   "id": "e98ffd06-b352-479c-922d-7e79f7e006e8",
   "metadata": {},
   "outputs": [
    {
     "data": {
      "text/plain": [
       "['Basic Assignment',\n",
       " 'Basic Programming Assignment',\n",
       " 'Machine Learning Assignment',\n",
       " 'Machine Learning Practical Assignment',\n",
       " 'Python Advanced Assignment']"
      ]
     },
     "execution_count": 17,
     "metadata": {},
     "output_type": "execute_result"
    }
   ],
   "source": [
    "files"
   ]
  },
  {
   "attachments": {},
   "cell_type": "markdown",
   "id": "3d1ee68a-c5e5-4f10-a1c5-2ad0f9bb1c95",
   "metadata": {},
   "source": [
    "# 6. Use multiprocessing to create three separate processes. Make each one wait a random number of seconds between one and five, print the current time, and then exit.\n"
   ]
  },
  {
   "cell_type": "code",
   "execution_count": 22,
   "id": "ed274e94-2b82-4628-9d18-957666e56aee",
   "metadata": {},
   "outputs": [],
   "source": [
    "import multiprocessing\n",
    "import random\n",
    "import time as tm\n",
    "from datetime import datetime"
   ]
  },
  {
   "cell_type": "code",
   "execution_count": 19,
   "id": "368db5f7",
   "metadata": {},
   "outputs": [],
   "source": [
    "def work():\n",
    "    sleep_time = random.randint(1,5)\n",
    "    tm.sleep(sleep_time)\n",
    "    print(datetime.now())\n",
    "    exit()"
   ]
  },
  {
   "cell_type": "code",
   "execution_count": 20,
   "id": "bf69de49",
   "metadata": {},
   "outputs": [],
   "source": [
    "if __name__==\"__main__\":\n",
    "    for i in range(3):\n",
    "        x = multiprocessing.Process(target=work)\n",
    "        x.start()"
   ]
  },
  {
   "attachments": {},
   "cell_type": "markdown",
   "id": "9659a9d5-92fa-45f5-961f-5c71cea02581",
   "metadata": {},
   "source": [
    "# 7. Create a date object of your day of birth.\n"
   ]
  },
  {
   "cell_type": "code",
   "execution_count": 34,
   "id": "4f5a859c",
   "metadata": {},
   "outputs": [],
   "source": [
    "from datetime import date"
   ]
  },
  {
   "cell_type": "code",
   "execution_count": 35,
   "id": "cd60a7f4-2b76-4fc8-9c22-d419258654ac",
   "metadata": {},
   "outputs": [],
   "source": [
    "day = date(1999,9,18)"
   ]
  },
  {
   "cell_type": "code",
   "execution_count": 36,
   "id": "047bf783",
   "metadata": {},
   "outputs": [
    {
     "data": {
      "text/plain": [
       "datetime.date(1999, 9, 18)"
      ]
     },
     "execution_count": 36,
     "metadata": {},
     "output_type": "execute_result"
    }
   ],
   "source": [
    "day"
   ]
  },
  {
   "attachments": {},
   "cell_type": "markdown",
   "id": "2d5bf767-977e-4333-927d-c0027b0c304f",
   "metadata": {},
   "source": [
    "# 8. What day of the week was your day of birth?\n"
   ]
  },
  {
   "cell_type": "code",
   "execution_count": 38,
   "id": "62343440",
   "metadata": {},
   "outputs": [
    {
     "data": {
      "text/plain": [
       "5"
      ]
     },
     "execution_count": 38,
     "metadata": {},
     "output_type": "execute_result"
    }
   ],
   "source": [
    "day.weekday()"
   ]
  },
  {
   "cell_type": "code",
   "execution_count": 41,
   "id": "70d8b1b4",
   "metadata": {},
   "outputs": [
    {
     "data": {
      "text/plain": [
       "6"
      ]
     },
     "execution_count": 41,
     "metadata": {},
     "output_type": "execute_result"
    }
   ],
   "source": [
    "day.isoweekday()"
   ]
  },
  {
   "attachments": {},
   "cell_type": "markdown",
   "id": "049c92df",
   "metadata": {},
   "source": [
    "#### With weekday(), Monday is 0 and Sunday is 6. With isoweekday(), Monday is 1 and Sunday is 7. Therefore, this date was a Saturday."
   ]
  },
  {
   "attachments": {},
   "cell_type": "markdown",
   "id": "e033bfd8-2425-4627-8825-63765481d57b",
   "metadata": {},
   "source": [
    "# 9. When will you be (or when were you) 10,000 days old?"
   ]
  },
  {
   "cell_type": "code",
   "execution_count": 47,
   "id": "fa6ac9b8-59b7-42f3-b0c6-8c524adb8b4a",
   "metadata": {},
   "outputs": [
    {
     "name": "stdout",
     "output_type": "stream",
     "text": [
      "10000 days, 0:00:00\n",
      "2027-02-03\n",
      "You will be 10000 days old on: 2027-02-03\n"
     ]
    }
   ],
   "source": [
    "import datetime\n",
    "\n",
    "birthdate = datetime.date(1999, 9, 18)\n",
    "\n",
    "ten_thousand_days = datetime.timedelta(days=10000)\n",
    "print(ten_thousand_days)\n",
    "ten_thousand_days_after_birthdate = birthdate + ten_thousand_days\n",
    "print(ten_thousand_days_after_birthdate)\n",
    "\n",
    "print(\"You will be 10000 days old on:\", ten_thousand_days_after_birthdate)"
   ]
  }
 ],
 "metadata": {
  "kernelspec": {
   "display_name": "Python 3 (ipykernel)",
   "language": "python",
   "name": "python3"
  },
  "language_info": {
   "codemirror_mode": {
    "name": "ipython",
    "version": 3
   },
   "file_extension": ".py",
   "mimetype": "text/x-python",
   "name": "python",
   "nbconvert_exporter": "python",
   "pygments_lexer": "ipython3",
   "version": "3.8.0"
  }
 },
 "nbformat": 4,
 "nbformat_minor": 5
}
