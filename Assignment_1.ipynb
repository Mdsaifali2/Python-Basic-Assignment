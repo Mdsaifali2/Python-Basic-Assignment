{
 "cells": [
  {
   "cell_type": "markdown",
   "metadata": {},
   "source": [
    "# 1. In the below elements which of them are values or an expression? eg:- values can be integer or string and expressions will be mathematical operators.\n",
    "* \n",
    "'hello'\n",
    "\n",
    "-87.8\n",
    "\n",
    "- \n",
    "\n",
    "/ \n",
    "\n",
    "+\n",
    "\n",
    "6 \n",
    "\n"
   ]
  },
  {
   "cell_type": "markdown",
   "metadata": {},
   "source": [
    "##### values are  :   ‘hello’, -87.8, 6\n",
    "##### Expressions are  :   *, -, /, +"
   ]
  },
  {
   "cell_type": "markdown",
   "metadata": {},
   "source": [
    "# 2. What is the difference between string and variable?"
   ]
  },
  {
   "cell_type": "markdown",
   "metadata": {},
   "source": [
    "##### A string is a sequence of characters, such as letters, numbers, and symbols. It can be used to represent words, phrases, sentences, or any other kind of textual data. Strings are typically enclosed in quotation marks to distinguish them from other types of data in a program.\n",
    "\n",
    "##### A variable, on the other hand, is a placeholder that stores a value or a reference to a value. Variables can be used to represent all kinds of data, including strings, numbers, booleans, and more complex data structures. A variable can be assigned a value, updated, or read by a program as needed.\n",
    "\n",
    "##### In summary, a string is a specific type of data, while a variable is a container that can hold any type of data, including strings. So, you can assign a string to a variable, but not the other way around."
   ]
  },
  {
   "cell_type": "markdown",
   "metadata": {},
   "source": [
    "# 3. Describe three different data types."
   ]
  },
  {
   "cell_type": "markdown",
   "metadata": {},
   "source": [
    "##### 1.    Integer: An integer is a whole number that can be positive, negative, or zero. Integers are commonly used in programming for counting, indexing, and arithmetic operations. They typically take up a fixed amount of memory, depending on the size of the integer.\n",
    "\n",
    "##### 2.    Float: A float, short for floating-point number, is a number with a decimal point. Floats are used for representing real numbers, such as measurements, ratios, and probabilities. They typically take up more memory than integers because they have more precision.\n",
    "\n",
    "##### 3.    String: A string is a sequence of characters that represents text data. Strings are commonly used for storing and manipulating text in programming, such as user input, file names, and messages. They can be enclosed in single or double quotation marks and can include any combination of letters, numbers, symbols, and whitespace."
   ]
  },
  {
   "cell_type": "markdown",
   "metadata": {},
   "source": [
    "# 4. What is an expression made up of? What do all expressions do?"
   ]
  },
  {
   "cell_type": "markdown",
   "metadata": {},
   "source": [
    "##### An expression is a combination of values, variables, operators, and function calls that evaluates to a single value. An expression can be as simple as a single variable or value, or as complex as a nested function call or a combination of operators.\n",
    "\n",
    "##### All expressions in Python evaluate to a value, which can be of any data type, such as a number, string, boolean, or object. Expressions can be used to perform calculations, manipulate data, compare values, and make decisions in a program.\n",
    "\n",
    "##### Here are some examples of expressions in Python:\n",
    "\n",
    "##### 1.  Arithmetic expression: 2 + 3 * 4 - 5 # Evaluates to 9\n",
    "##### 2.  String expression: \"Hello\" + \" \" + \"world\" # Evaluates to \"Hello world\"\n",
    "##### 3.  Comparison expression: 5 > 3 # Evaluates to True\n",
    "##### 4.  Function call expression: len(\"Python\") # Evaluates to 6\n",
    "\n",
    "##### In general, all expressions in Python have a value and a data type, which can be used in further expressions or stored in variables for later use. Expressions are a fundamental building block of Python programs and are used extensively in control structures, loops, and other constructs."
   ]
  },
  {
   "cell_type": "markdown",
   "metadata": {},
   "source": [
    "# 5. This assignment statements, like spam = 10. What is the difference between an expression and a statement?"
   ]
  },
  {
   "cell_type": "markdown",
   "metadata": {},
   "source": [
    "##### 1) An expression evaluates to a single value. A statement does not.\n",
    "\n",
    "##### 2) Statements represent an action or command e.g print statements, assignment statements.\n",
    "\n",
    "##### print 'hello', x = 1, spam = 10.\n",
    "\n",
    "##### whereas\n",
    "\n",
    "##### Expression is a combination of variables, operations and values that yields a result value.\n",
    "\n",
    "##### 5 * 5 # yields 25"
   ]
  },
  {
   "cell_type": "markdown",
   "metadata": {},
   "source": [
    "# 6. After running the following code, what does the variable bacon contain?\n",
    "\n",
    "## bacon = 22\n",
    "## bacon + 1"
   ]
  },
  {
   "cell_type": "code",
   "execution_count": 1,
   "metadata": {},
   "outputs": [],
   "source": [
    "bacon = 22"
   ]
  },
  {
   "cell_type": "code",
   "execution_count": 2,
   "metadata": {},
   "outputs": [
    {
     "data": {
      "text/plain": [
       "23"
      ]
     },
     "execution_count": 2,
     "metadata": {},
     "output_type": "execute_result"
    }
   ],
   "source": [
    "bacon + 1"
   ]
  },
  {
   "cell_type": "code",
   "execution_count": 3,
   "metadata": {
    "scrolled": true
   },
   "outputs": [
    {
     "data": {
      "text/plain": [
       "22"
      ]
     },
     "execution_count": 3,
     "metadata": {},
     "output_type": "execute_result"
    }
   ],
   "source": [
    "bacon"
   ]
  },
  {
   "cell_type": "markdown",
   "metadata": {},
   "source": [
    "##### The bacon variable is set to 20. The bacon + 1 expression does not reassign the value in bacon (that need an assignment statement: bacon = bacon + 1)."
   ]
  },
  {
   "cell_type": "markdown",
   "metadata": {},
   "source": [
    "# 7. What should the values of the following two terms be?\n",
    "\n",
    "## &#39;spam&#39; + &#39;spamspam&#39;\n",
    "## &#39;spam&#39; * 3"
   ]
  },
  {
   "cell_type": "code",
   "execution_count": 4,
   "metadata": {},
   "outputs": [
    {
     "data": {
      "text/plain": [
       "'spamspamspam'"
      ]
     },
     "execution_count": 4,
     "metadata": {},
     "output_type": "execute_result"
    }
   ],
   "source": [
    "'spam' + 'spamspam'"
   ]
  },
  {
   "cell_type": "code",
   "execution_count": 5,
   "metadata": {},
   "outputs": [
    {
     "data": {
      "text/plain": [
       "'spamspamspam'"
      ]
     },
     "execution_count": 5,
     "metadata": {},
     "output_type": "execute_result"
    }
   ],
   "source": [
    "'spam' * 3"
   ]
  },
  {
   "cell_type": "markdown",
   "metadata": {},
   "source": [
    "##### Both expressions evaluate to the string 'spamspamspam'."
   ]
  },
  {
   "cell_type": "markdown",
   "metadata": {},
   "source": [
    "# 8. Why is eggs a valid variable name while 100 is invalid?"
   ]
  },
  {
   "cell_type": "markdown",
   "metadata": {},
   "source": [
    "##### In Python, variable names have certain rules and conventions that determine what is a valid name. Specifically, a variable name can contain letters (both uppercase and lowercase), digits, and underscores, but it cannot begin with a digit.\n",
    "##### This means that eggs is a valid variable name because it consists of only letters.\n",
    "##### On the other hand, 100 is an invalid variable name because it begins with a digit."
   ]
  },
  {
   "cell_type": "markdown",
   "metadata": {},
   "source": [
    "#####  9. What three functions can be used to get the integer, floating-point number, or string version of a value?"
   ]
  },
  {
   "cell_type": "markdown",
   "metadata": {},
   "source": [
    "##### In Python, there are several built-in functions that can be used to convert a value to a different data type. \n",
    "\n",
    "##### --> int(): This function can be used to convert a value to an integer data type. If the value is a string, it should represent a whole number (without a decimal point) that can be converted to an integer. If the value is a floating-point number, it will be truncated to an integer.\n",
    "\n",
    "##### --> float(): This function can be used to convert a value to a floating-point number data type. If the value is a string, it should represent a number (with or without a decimal point) that can be converted to a floating-point number. If the value is an integer, it will be converted to a floating-point number.\n",
    "\n",
    "##### --> str(): This function can be used to convert a value to a string data type. It can be used with any data type and will return a string representation of the value.\n",
    "\n",
    "##### The int(), float(), and str() functions will evaluate to the integer, floating-point number, and string versions of the value passed to them."
   ]
  },
  {
   "cell_type": "markdown",
   "metadata": {},
   "source": [
    "# 10. Why does this expression cause an error? How can you fix it?\n",
    "# &#39;I have eaten &#39; + 99 + &#39; burritos.&#39;"
   ]
  },
  {
   "cell_type": "markdown",
   "metadata": {},
   "source": [
    "##### The expression causes an error because 99 is an integer, and only strings can be concatenated to other strings with the + operator. The correct way is I have eaten ' + '99' + ' burritos.'."
   ]
  }
 ],
 "metadata": {
  "kernelspec": {
   "display_name": "Python 3 (ipykernel)",
   "language": "python",
   "name": "python3"
  },
  "language_info": {
   "codemirror_mode": {
    "name": "ipython",
    "version": 3
   },
   "file_extension": ".py",
   "mimetype": "text/x-python",
   "name": "python",
   "nbconvert_exporter": "python",
   "pygments_lexer": "ipython3",
   "version": "3.10.6"
  }
 },
 "nbformat": 4,
 "nbformat_minor": 4
}
