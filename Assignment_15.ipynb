{
 "cells": [
  {
   "cell_type": "markdown",
   "id": "30bc137c-027c-4c13-932c-ee2b66e0374f",
   "metadata": {},
   "source": [
    "# 1. How many seconds are in an hour? Use the interactive interpreter as a calculator and multiply the number of seconds in a minute (60) by the number of minutes in an hour (also 60). sol. 60\n"
   ]
  },
  {
   "cell_type": "code",
   "execution_count": 7,
   "id": "996f1a9c-fee1-4cf2-b4bf-535c04ae5a62",
   "metadata": {},
   "outputs": [
    {
     "data": {
      "text/plain": [
       "3600"
      ]
     },
     "execution_count": 7,
     "metadata": {},
     "output_type": "execute_result"
    }
   ],
   "source": [
    "60*60"
   ]
  },
  {
   "cell_type": "markdown",
   "id": "90af9ff4-3d77-4a95-ba19-4fef167690de",
   "metadata": {},
   "source": [
    "# 2. Assign the result from the previous task (seconds in an hour) to a variable called seconds_per_hour.\n"
   ]
  },
  {
   "cell_type": "code",
   "execution_count": 9,
   "id": "67e3529b-a875-4d3a-b1bd-e8b31eb5a8d2",
   "metadata": {},
   "outputs": [
    {
     "data": {
      "text/plain": [
       "3600"
      ]
     },
     "execution_count": 9,
     "metadata": {},
     "output_type": "execute_result"
    }
   ],
   "source": [
    "seconds_per_hour = 60*60\n",
    "seconds_per_hour"
   ]
  },
  {
   "cell_type": "markdown",
   "id": "cb956c04-4e20-41a0-9227-48abc5bdc86f",
   "metadata": {},
   "source": [
    "\n",
    "# 3. How many seconds do you think there are in a day? Make use of the variables seconds per hour and minutes per hour.\n"
   ]
  },
  {
   "cell_type": "code",
   "execution_count": 15,
   "id": "7453723f-a3ed-4919-86f6-f2e490f26889",
   "metadata": {},
   "outputs": [
    {
     "name": "stdout",
     "output_type": "stream",
     "text": [
      "86400\n"
     ]
    }
   ],
   "source": [
    "seconds_per_hour = 60 * 60\n",
    "seconds_per_day = seconds_per_hour * 24\n",
    "print(seconds_per_day)"
   ]
  },
  {
   "cell_type": "markdown",
   "id": "bb23a5fa-bfcc-4df4-af41-b18a98640b9e",
   "metadata": {},
   "source": [
    "\n",
    "# 4. Calculate seconds per day again, but this time save the result in a variable called seconds_per_day\n"
   ]
  },
  {
   "cell_type": "code",
   "execution_count": 19,
   "id": "fc8de219-36cb-4532-b439-3ff9562a579c",
   "metadata": {},
   "outputs": [
    {
     "data": {
      "text/plain": [
       "86400"
      ]
     },
     "execution_count": 19,
     "metadata": {},
     "output_type": "execute_result"
    }
   ],
   "source": [
    "seconds_per_day = 60*60*24\n",
    "seconds_per_day"
   ]
  },
  {
   "cell_type": "markdown",
   "id": "03793033-cc37-4280-af86-b2e1d5559683",
   "metadata": {},
   "source": [
    "\n",
    "# 5. Divide seconds_per_day by seconds_per_hour. Use floating-point (/) division.\n",
    "\n"
   ]
  },
  {
   "cell_type": "code",
   "execution_count": 20,
   "id": "900c56e5-b50f-48b5-a578-bcce9893ec49",
   "metadata": {},
   "outputs": [
    {
     "data": {
      "text/plain": [
       "24.0"
      ]
     },
     "execution_count": 20,
     "metadata": {},
     "output_type": "execute_result"
    }
   ],
   "source": [
    "seconds_per_day / seconds_per_hour"
   ]
  },
  {
   "cell_type": "markdown",
   "id": "22aa2470-66ce-42bd-873d-4d3f2c227a04",
   "metadata": {},
   "source": [
    "# 6. Divide seconds_per_day by seconds_per_hour, using integer (//) division. Did this number agree with the floating-point value from the previous question, aside from the final .0?\n"
   ]
  },
  {
   "cell_type": "code",
   "execution_count": 21,
   "id": "9822f74e-f1ab-4efa-b288-3a119a3bf578",
   "metadata": {},
   "outputs": [
    {
     "data": {
      "text/plain": [
       "24"
      ]
     },
     "execution_count": 21,
     "metadata": {},
     "output_type": "execute_result"
    }
   ],
   "source": [
    "seconds_per_day//seconds_per_hour"
   ]
  },
  {
   "cell_type": "markdown",
   "id": "024c12dd-fbbe-47aa-8278-b8a1d998ee8b",
   "metadata": {},
   "source": [
    "#### Yes this number agree with the floating-point value from the previous question."
   ]
  },
  {
   "cell_type": "markdown",
   "id": "dab23a46-63bb-46e5-b35e-0acceb1e29bb",
   "metadata": {},
   "source": [
    "\n",
    "# 7. Write a generator, genPrimes, that returns the sequence of prime numbers on successive calls to its next() method: 2, 3, 5, 7, 11, ..."
   ]
  },
  {
   "cell_type": "code",
   "execution_count": 22,
   "id": "7547617e-6dc8-43c9-afa4-21497cbf55cd",
   "metadata": {},
   "outputs": [],
   "source": [
    "def genPrimes():\n",
    "    prime = list()\n",
    "    num = 2\n",
    "    \n",
    "    while True:\n",
    "        prim = True\n",
    "        \n",
    "        for pr in prime:\n",
    "            if num % pr == 0:\n",
    "                prim=False\n",
    "                break\n",
    "            \n",
    "        if prim:\n",
    "            prime.append(num)\n",
    "            yield num\n",
    "            \n",
    "        num += 1"
   ]
  },
  {
   "cell_type": "code",
   "execution_count": 23,
   "id": "047b9772-4dfc-4b99-8ef9-26350b6cbe1c",
   "metadata": {},
   "outputs": [],
   "source": [
    "primes = genPrimes()"
   ]
  },
  {
   "cell_type": "code",
   "execution_count": 29,
   "id": "dec3daa8-39ae-4f73-8b98-40ded9c7e281",
   "metadata": {},
   "outputs": [
    {
     "name": "stdout",
     "output_type": "stream",
     "text": [
      "13\n"
     ]
    }
   ],
   "source": [
    "print(next(primes))"
   ]
  },
  {
   "cell_type": "code",
   "execution_count": null,
   "id": "f5ca867a-750f-42fc-9358-f9d7343c9db6",
   "metadata": {},
   "outputs": [],
   "source": []
  }
 ],
 "metadata": {
  "kernelspec": {
   "display_name": "Python 3 (ipykernel)",
   "language": "python",
   "name": "python3"
  },
  "language_info": {
   "codemirror_mode": {
    "name": "ipython",
    "version": 3
   },
   "file_extension": ".py",
   "mimetype": "text/x-python",
   "name": "python",
   "nbconvert_exporter": "python",
   "pygments_lexer": "ipython3",
   "version": "3.10.6"
  }
 },
 "nbformat": 4,
 "nbformat_minor": 5
}
