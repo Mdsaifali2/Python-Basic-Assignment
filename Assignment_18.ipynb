{
 "cells": [
  {
   "cell_type": "markdown",
   "id": "d1519123-5582-417b-af73-f815f4afa597",
   "metadata": {},
   "source": [
    "# 1. Create a zoo.py file first. Define the hours() function, which prints the string &#39;Open 9-5 daily&#39;.Then, use the interactive interpreter to import the zoo module and call its hours() function.\n"
   ]
  },
  {
   "cell_type": "code",
   "execution_count": 6,
   "id": "b8de8669-ec42-44b3-be81-3eb114217ff0",
   "metadata": {},
   "outputs": [
    {
     "data": {
      "text/plain": [
       "'Open 9-5 daily'"
      ]
     },
     "execution_count": 6,
     "metadata": {},
     "output_type": "execute_result"
    }
   ],
   "source": [
    "import zoo\n",
    "zoo.hours()"
   ]
  },
  {
   "cell_type": "markdown",
   "id": "738fbacd-0d28-4a34-8eba-af5683e893c2",
   "metadata": {},
   "source": [
    "# 2. In the interactive interpreter, import the zoo module as menagerie and call its hours() function.\n"
   ]
  },
  {
   "cell_type": "code",
   "execution_count": 8,
   "id": "94c57d37-e546-4aca-affe-90537d346296",
   "metadata": {},
   "outputs": [
    {
     "data": {
      "text/plain": [
       "'Open 9-5 daily'"
      ]
     },
     "execution_count": 8,
     "metadata": {},
     "output_type": "execute_result"
    }
   ],
   "source": [
    "import zoo as menagerie\n",
    "menagerie.hours()"
   ]
  },
  {
   "cell_type": "markdown",
   "id": "fc244d07-a763-4993-8edb-94ebcec96356",
   "metadata": {},
   "source": [
    "# 3. Using the interpreter, explicitly import and call the hours() function from zoo.\n"
   ]
  },
  {
   "cell_type": "code",
   "execution_count": 11,
   "id": "601f4e2f-6a93-4cff-99e1-e7d110f49d53",
   "metadata": {},
   "outputs": [
    {
     "data": {
      "text/plain": [
       "'Open 9-5 daily'"
      ]
     },
     "execution_count": 11,
     "metadata": {},
     "output_type": "execute_result"
    }
   ],
   "source": [
    "from zoo import hours as hr\n",
    "hr()"
   ]
  },
  {
   "cell_type": "markdown",
   "id": "ebdaa70b-0fab-480b-9a0c-fde98b54d124",
   "metadata": {},
   "source": [
    "# 4. Import the hours() function as info and call it."
   ]
  },
  {
   "cell_type": "code",
   "execution_count": 12,
   "id": "5aa6c4c3-5951-4b8a-81b0-34c096d7de0f",
   "metadata": {},
   "outputs": [
    {
     "data": {
      "text/plain": [
       "'Open 9-5 daily'"
      ]
     },
     "execution_count": 12,
     "metadata": {},
     "output_type": "execute_result"
    }
   ],
   "source": [
    "from zoo import hours as info\n",
    "info()"
   ]
  },
  {
   "cell_type": "markdown",
   "id": "7d4d8676-2aac-49b8-86eb-28b46492623e",
   "metadata": {},
   "source": [
    "# 5. Create a plain dictionary with the key-value pairs &#39;a&#39;: 1, &#39;b&#39;: 2, and &#39;c&#39;: 3, and print it out.\n"
   ]
  },
  {
   "cell_type": "code",
   "execution_count": 13,
   "id": "7b407ff4-5ed6-48fe-93b2-95a93b9062d7",
   "metadata": {},
   "outputs": [
    {
     "name": "stdout",
     "output_type": "stream",
     "text": [
      "{'a': 1, 'b': 2, 'c': 3}\n"
     ]
    }
   ],
   "source": [
    "plain = {\n",
    "    \"a\":1,\n",
    "    \"b\":2,\n",
    "    \"c\":3\n",
    "}\n",
    "print(plain)"
   ]
  },
  {
   "cell_type": "markdown",
   "id": "33f3496e-7e8c-497f-ae8e-0762ae442bd9",
   "metadata": {},
   "source": [
    "# 6.Make an OrderedDict called fancy from the same pairs listed in 5 and print it. Did it print in the same order as plain?\n"
   ]
  },
  {
   "cell_type": "code",
   "execution_count": 14,
   "id": "a596756a-bc7e-464b-9f08-aa4a01c53d18",
   "metadata": {},
   "outputs": [],
   "source": [
    "from collections import OrderedDict"
   ]
  },
  {
   "cell_type": "code",
   "execution_count": 15,
   "id": "88c5fded-21c7-4771-8cf5-8e8093606bfa",
   "metadata": {},
   "outputs": [],
   "source": [
    "fancy = OrderedDict((plain))"
   ]
  },
  {
   "cell_type": "code",
   "execution_count": 16,
   "id": "85ab270c-4d37-4475-9180-c1f544cde072",
   "metadata": {},
   "outputs": [
    {
     "name": "stdout",
     "output_type": "stream",
     "text": [
      "OrderedDict([('a', 1), ('b', 2), ('c', 3)])\n"
     ]
    }
   ],
   "source": [
    "print(fancy)"
   ]
  },
  {
   "cell_type": "markdown",
   "id": "a56e54de-c1c9-44d1-abef-7ec9bd21c18f",
   "metadata": {},
   "source": [
    "# 7. Make a default dictionary called dict_of_lists and pass it the argument list. Make the list dict_of_lists[&#39;a&#39;] and append the value &#39;something for a&#39; to it in one assignment. Print dict_of_lists[&#39;a&#39;]."
   ]
  },
  {
   "cell_type": "code",
   "execution_count": 18,
   "id": "5d1ee4e8-e0dc-4dce-be69-f874ea8891ba",
   "metadata": {},
   "outputs": [],
   "source": [
    "from collections import defaultdict"
   ]
  },
  {
   "cell_type": "code",
   "execution_count": 19,
   "id": "edf899c6-3b37-4075-82e5-387f52a6fe9c",
   "metadata": {},
   "outputs": [],
   "source": [
    "dict_of_list = defaultdict(list)"
   ]
  },
  {
   "cell_type": "code",
   "execution_count": 20,
   "id": "507a2e2d-38d6-4c29-9a89-afe081d21a6b",
   "metadata": {},
   "outputs": [],
   "source": [
    "dict_of_list[\"a\"].append('something for a')"
   ]
  },
  {
   "cell_type": "code",
   "execution_count": 22,
   "id": "8aef8a42-aba3-4805-a17c-e826722b0a60",
   "metadata": {},
   "outputs": [
    {
     "name": "stdout",
     "output_type": "stream",
     "text": [
      "['something for a']\n"
     ]
    }
   ],
   "source": [
    "print(dict_of_list[\"a\"])"
   ]
  }
 ],
 "metadata": {
  "kernelspec": {
   "display_name": "Python 3 (ipykernel)",
   "language": "python",
   "name": "python3"
  },
  "language_info": {
   "codemirror_mode": {
    "name": "ipython",
    "version": 3
   },
   "file_extension": ".py",
   "mimetype": "text/x-python",
   "name": "python",
   "nbconvert_exporter": "python",
   "pygments_lexer": "ipython3",
   "version": "3.10.6"
  }
 },
 "nbformat": 4,
 "nbformat_minor": 5
}
