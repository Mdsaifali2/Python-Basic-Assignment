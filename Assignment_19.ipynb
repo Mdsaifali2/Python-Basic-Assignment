{
 "cells": [
  {
   "cell_type": "markdown",
   "id": "0aa5d4ee-6a89-4cd3-8455-1ce97603c2ce",
   "metadata": {},
   "source": [
    "# 1. Make a class called Thing with no contents and print it. Then, create an object called example from this class and also print it. Are the printed values the same or different?\n"
   ]
  },
  {
   "cell_type": "code",
   "execution_count": 4,
   "id": "57b268ac-703e-4cde-8049-4ef0722c56c0",
   "metadata": {},
   "outputs": [],
   "source": [
    "class Thing:\n",
    "    pass"
   ]
  },
  {
   "cell_type": "code",
   "execution_count": 5,
   "id": "77bca1a3-d4e7-4626-98e0-5e1f18ecc726",
   "metadata": {},
   "outputs": [
    {
     "name": "stdout",
     "output_type": "stream",
     "text": [
      "<class '__main__.Thing'>\n"
     ]
    }
   ],
   "source": [
    "print(Thing)"
   ]
  },
  {
   "cell_type": "code",
   "execution_count": 6,
   "id": "825cde5c-4e87-4cb8-af87-72649983b414",
   "metadata": {},
   "outputs": [],
   "source": [
    "example = Thing()"
   ]
  },
  {
   "cell_type": "code",
   "execution_count": 7,
   "id": "147ffc40-fa09-4913-b132-237550ae8137",
   "metadata": {},
   "outputs": [
    {
     "name": "stdout",
     "output_type": "stream",
     "text": [
      "<__main__.Thing object at 0x7f0c4417d420>\n"
     ]
    }
   ],
   "source": [
    "print(example)"
   ]
  },
  {
   "cell_type": "markdown",
   "id": "64a05631-97cf-410d-8975-8b58a39d62c5",
   "metadata": {},
   "source": [
    "#### No the printed values the are different"
   ]
  },
  {
   "cell_type": "markdown",
   "id": "e121e6ad-a8df-4cc9-99f5-d4e04bf3c8f6",
   "metadata": {},
   "source": [
    "# 2. Create a new class called Thing2 and add the value &#39;abc&#39; to the letters class attribute. Letters should be printed.\n"
   ]
  },
  {
   "cell_type": "code",
   "execution_count": 10,
   "id": "f22c8ed6-2ef5-484e-b0c8-9818ad0ffed6",
   "metadata": {},
   "outputs": [],
   "source": [
    "class Thing2:\n",
    "    letters = \"abc\""
   ]
  },
  {
   "cell_type": "code",
   "execution_count": 12,
   "id": "ab48e669-ada5-42f6-89d8-8f30c6b1f170",
   "metadata": {},
   "outputs": [
    {
     "name": "stdout",
     "output_type": "stream",
     "text": [
      "abc\n"
     ]
    }
   ],
   "source": [
    "print(Thing2.letters)"
   ]
  },
  {
   "cell_type": "markdown",
   "id": "1a72f7be-6d5f-4ea9-bd93-ad0f4148f2f5",
   "metadata": {},
   "source": [
    "# 3. Make yet another class called, of course, Thing3. This time, assign the value &#39;xyz&#39; to an instance (object) attribute called letters. Print letters. Do you need to make an object from the class to do this?"
   ]
  },
  {
   "cell_type": "code",
   "execution_count": 13,
   "id": "44c7cbbc-9fd0-4845-8e36-3b8553630ec1",
   "metadata": {},
   "outputs": [],
   "source": [
    "class Thing3:\n",
    "    def __init__(self):\n",
    "        self.letters = \"xyz\""
   ]
  },
  {
   "cell_type": "code",
   "execution_count": 14,
   "id": "72c6c450-3f6f-4b11-a99b-b2222b3e9369",
   "metadata": {},
   "outputs": [
    {
     "ename": "AttributeError",
     "evalue": "type object 'Thing3' has no attribute 'letters'",
     "output_type": "error",
     "traceback": [
      "\u001b[0;31m---------------------------------------------------------------------------\u001b[0m",
      "\u001b[0;31mAttributeError\u001b[0m                            Traceback (most recent call last)",
      "Cell \u001b[0;32mIn [14], line 1\u001b[0m\n\u001b[0;32m----> 1\u001b[0m \u001b[38;5;28mprint\u001b[39m(\u001b[43mThing3\u001b[49m\u001b[38;5;241;43m.\u001b[39;49m\u001b[43mletters\u001b[49m)\n",
      "\u001b[0;31mAttributeError\u001b[0m: type object 'Thing3' has no attribute 'letters'"
     ]
    }
   ],
   "source": [
    "print(Thing3.letters)"
   ]
  },
  {
   "cell_type": "code",
   "execution_count": 15,
   "id": "3acc05e6-a6ad-457b-860c-b23437b2b9b3",
   "metadata": {},
   "outputs": [],
   "source": [
    "new_thing  = Thing3()"
   ]
  },
  {
   "cell_type": "code",
   "execution_count": 16,
   "id": "3ad7025e-8775-4850-8158-f9fe6bf129c6",
   "metadata": {},
   "outputs": [
    {
     "name": "stdout",
     "output_type": "stream",
     "text": [
      "xyz\n"
     ]
    }
   ],
   "source": [
    "print(new_thing.letters)"
   ]
  },
  {
   "cell_type": "markdown",
   "id": "59c4b7e5-6d61-4392-81e1-ee9d015c58d5",
   "metadata": {},
   "source": [
    "# 4. Create an Element class with the instance attributes name, symbol, and number. Create a class object with the values &#39;Hydrogen,&#39; &#39;H,&#39; and 1.\n"
   ]
  },
  {
   "cell_type": "code",
   "execution_count": 17,
   "id": "66281102-8c64-4476-b2e3-c053b1858fe4",
   "metadata": {},
   "outputs": [],
   "source": [
    "class Element:\n",
    "    def __init__(self,name,symbol,number):\n",
    "        self.name = name\n",
    "        self.symbol = symbol\n",
    "        self.number = number\n",
    "        "
   ]
  },
  {
   "cell_type": "code",
   "execution_count": 18,
   "id": "5c0bc808-1b22-4d54-98a9-96ac153ef9b4",
   "metadata": {},
   "outputs": [],
   "source": [
    "Elem_obj = Element('Hydrogen', 'H', 1)"
   ]
  },
  {
   "cell_type": "code",
   "execution_count": 20,
   "id": "d1ef8627-3d63-4ffc-b787-f6d62c480108",
   "metadata": {},
   "outputs": [
    {
     "name": "stdout",
     "output_type": "stream",
     "text": [
      "Hydrogen 1 H\n"
     ]
    }
   ],
   "source": [
    "print(Elem_obj.name,Elem_obj.number, Elem_obj.symbol)"
   ]
  },
  {
   "cell_type": "markdown",
   "id": "6a69cc7e-3380-44b0-85f6-74540bf37c87",
   "metadata": {},
   "source": [
    "# 5. Make a dictionary with these keys and values: &#39;name&#39;: &#39;Hydrogen&#39;, &#39;symbol&#39;: &#39;H&#39;, &#39;number&#39;: 1. Then, create an object called hydrogen from class Element using this dictionary.\n"
   ]
  },
  {
   "cell_type": "code",
   "execution_count": 21,
   "id": "aa93c711-2a29-419c-8de9-17951b13f5a1",
   "metadata": {},
   "outputs": [],
   "source": [
    "my_dict = {\n",
    "    'name': 'Hydrogen',\n",
    "    'symbol': 'H',\n",
    "    'number': 1\n",
    "}"
   ]
  },
  {
   "cell_type": "code",
   "execution_count": 22,
   "id": "8f3553a4-0660-4d4d-8bde-da337b9d90c7",
   "metadata": {},
   "outputs": [],
   "source": [
    "hydrogen = Element(my_dict[\"name\"],my_dict[\"symbol\"], my_dict[\"number\"])"
   ]
  },
  {
   "cell_type": "code",
   "execution_count": 27,
   "id": "1536c70c-1c08-4f02-8e7b-d862c41a163d",
   "metadata": {},
   "outputs": [
    {
     "data": {
      "text/plain": [
       "'Hydrogen'"
      ]
     },
     "execution_count": 27,
     "metadata": {},
     "output_type": "execute_result"
    }
   ],
   "source": [
    "hydrogen.name"
   ]
  },
  {
   "cell_type": "code",
   "execution_count": 28,
   "id": "24fac00d-1fa2-4d5a-b0a3-819123744f7d",
   "metadata": {},
   "outputs": [
    {
     "data": {
      "text/plain": [
       "'H'"
      ]
     },
     "execution_count": 28,
     "metadata": {},
     "output_type": "execute_result"
    }
   ],
   "source": [
    "hydrogen.symbol"
   ]
  },
  {
   "cell_type": "code",
   "execution_count": 29,
   "id": "fbefd250-7ffb-453c-b9f0-d76e78c0d7ba",
   "metadata": {},
   "outputs": [
    {
     "data": {
      "text/plain": [
       "1"
      ]
     },
     "execution_count": 29,
     "metadata": {},
     "output_type": "execute_result"
    }
   ],
   "source": [
    "hydrogen.number"
   ]
  },
  {
   "cell_type": "markdown",
   "id": "18b2b51d-b4da-4d78-bd53-ce8a3f38a55e",
   "metadata": {
    "tags": []
   },
   "source": [
    "# 6. For the Element class, define a method called dump() that prints the values of the object’s attributes (name, symbol, and number). Create the hydrogen object from this new definition and use dump() to print its attributes.\n"
   ]
  },
  {
   "cell_type": "code",
   "execution_count": 30,
   "id": "396f2ee6-65a6-4d35-8b01-50de9dff0f76",
   "metadata": {},
   "outputs": [],
   "source": [
    "class Element:\n",
    "    def __init__(self, name, symbol, number):\n",
    "        self.name=name\n",
    "        self.symbol=symbol\n",
    "        self.number=number\n",
    "    def dump(self):\n",
    "        print(f\"Name = {self.name}, Symbol = {self.symbol}, Number = {self.number}\")"
   ]
  },
  {
   "cell_type": "code",
   "execution_count": 39,
   "id": "4928b987-a69f-4c3c-8926-6df179fd049d",
   "metadata": {},
   "outputs": [],
   "source": [
    "hydrogen=Element(**my_dict)"
   ]
  },
  {
   "cell_type": "code",
   "execution_count": 40,
   "id": "269d8a79-38bb-4024-b70a-d30c56c9a11b",
   "metadata": {},
   "outputs": [
    {
     "name": "stdout",
     "output_type": "stream",
     "text": [
      "Name = Hydrogen, Symbol = H, Number = 1\n"
     ]
    }
   ],
   "source": [
    "hydrogen.dump()"
   ]
  },
  {
   "cell_type": "markdown",
   "id": "04b85735-75b3-4797-8a45-fdafd2ab97ba",
   "metadata": {},
   "source": [
    "# 7. Call print(hydrogen). In the definition of Element, change the name of method dump to __str__, create a new hydrogen object, and call print(hydrogen) again.\n"
   ]
  },
  {
   "cell_type": "code",
   "execution_count": 41,
   "id": "e1886769-14e4-4546-ae16-aaf58f149d42",
   "metadata": {},
   "outputs": [
    {
     "name": "stdout",
     "output_type": "stream",
     "text": [
      "<__main__.Element object at 0x7f0c25a381c0>\n"
     ]
    }
   ],
   "source": [
    " print(hydrogen)"
   ]
  },
  {
   "cell_type": "code",
   "execution_count": 46,
   "id": "67d3983e-97e7-4a55-9ee5-49fe3bc2525b",
   "metadata": {},
   "outputs": [],
   "source": [
    "class Element:\n",
    "    def __init__(self, name, symbol, number):\n",
    "        self.name=name\n",
    "        self.symbol=symbol\n",
    "        self.number=number\n",
    "    def __str__(self):\n",
    "        return f\"Name = {self.name}, Symbol = {self.symbol}, Number = {self.number}\""
   ]
  },
  {
   "cell_type": "code",
   "execution_count": 47,
   "id": "603e1259-6c83-475c-b940-ddbd44d8ca39",
   "metadata": {},
   "outputs": [],
   "source": [
    "hydrogen=Element(**my_dict)"
   ]
  },
  {
   "cell_type": "code",
   "execution_count": 48,
   "id": "456a7f50-7957-4409-a46c-ee0711bf5265",
   "metadata": {},
   "outputs": [
    {
     "name": "stdout",
     "output_type": "stream",
     "text": [
      "Name = Hydrogen, Symbol = H, Number = 1\n"
     ]
    }
   ],
   "source": [
    " print(hydrogen)"
   ]
  },
  {
   "cell_type": "markdown",
   "id": "b1272624-557c-40a7-bd2b-a799898a2c50",
   "metadata": {},
   "source": [
    "# 8. Modify Element to make the attributes name, symbol, and number private. Define a getter property for each to return its value.\n"
   ]
  },
  {
   "cell_type": "code",
   "execution_count": 57,
   "id": "12290b5f-a6a4-4146-997e-ff31de82f695",
   "metadata": {},
   "outputs": [],
   "source": [
    "class Element:\n",
    "    def __init__(self, name, symbol, number):\n",
    "        self.__name=name\n",
    "        self.__symbol=symbol\n",
    "        self.__number=number\n",
    "    \n",
    "    @property\n",
    "    def name(self):\n",
    "        return self.__name\n",
    "    @property\n",
    "    def symbol(self):\n",
    "        return self.__symbol\n",
    "    @property\n",
    "    def number(self):\n",
    "        return self.__number"
   ]
  },
  {
   "cell_type": "code",
   "execution_count": 58,
   "id": "c414ca4e-f10f-4029-8372-a1a46da29cc9",
   "metadata": {},
   "outputs": [],
   "source": [
    "hydro = Element(\"Hydorgen\", \"H\", 1)"
   ]
  },
  {
   "cell_type": "code",
   "execution_count": 59,
   "id": "8a9683df-f69f-46a3-bb4b-ebafd8299385",
   "metadata": {},
   "outputs": [
    {
     "data": {
      "text/plain": [
       "'Hydorgen'"
      ]
     },
     "execution_count": 59,
     "metadata": {},
     "output_type": "execute_result"
    }
   ],
   "source": [
    "hydro.name"
   ]
  },
  {
   "cell_type": "code",
   "execution_count": 60,
   "id": "7dec5717-a4b9-4e62-ae69-6d266aa89071",
   "metadata": {},
   "outputs": [
    {
     "data": {
      "text/plain": [
       "'H'"
      ]
     },
     "execution_count": 60,
     "metadata": {},
     "output_type": "execute_result"
    }
   ],
   "source": [
    "hydro.symbol"
   ]
  },
  {
   "cell_type": "code",
   "execution_count": 61,
   "id": "07829826-0caa-492a-8a98-48002a31fc35",
   "metadata": {},
   "outputs": [
    {
     "data": {
      "text/plain": [
       "1"
      ]
     },
     "execution_count": 61,
     "metadata": {},
     "output_type": "execute_result"
    }
   ],
   "source": [
    "hydro.number"
   ]
  },
  {
   "cell_type": "markdown",
   "id": "c149a72e-eb1e-4526-9704-50ca5af726cf",
   "metadata": {},
   "source": [
    "# 9. Define three classes: Bear, Rabbit, and Octothorpe. For each, define only one method: eats(). This should return &#39;berries&#39; (Bear), &#39;clover&#39; (Rabbit), or &#39;campers&#39; (Octothorpe). Create one object from each and print what it eats.\n"
   ]
  },
  {
   "cell_type": "code",
   "execution_count": 71,
   "id": "6a712940-30e9-409c-aded-e38ac827ce71",
   "metadata": {},
   "outputs": [],
   "source": [
    "class Bear:\n",
    "    def eats(self):\n",
    "        return 'berries'\n",
    "class Rabbit:\n",
    "    def eats(self):\n",
    "        return 'clover'\n",
    "class Octothorpe:\n",
    "    def eats(self):\n",
    "        return 'campers'"
   ]
  },
  {
   "cell_type": "code",
   "execution_count": 72,
   "id": "37669077-96cf-48a9-a5cc-934dec9c871f",
   "metadata": {},
   "outputs": [],
   "source": [
    "obj_bear = Bear()\n",
    "obj_rabb = Rabbit()\n",
    "obj_octo = Octothorpe()"
   ]
  },
  {
   "cell_type": "code",
   "execution_count": 73,
   "id": "499a5339-9f78-4d1d-adca-abe82d1ca13f",
   "metadata": {},
   "outputs": [
    {
     "data": {
      "text/plain": [
       "'berries'"
      ]
     },
     "execution_count": 73,
     "metadata": {},
     "output_type": "execute_result"
    }
   ],
   "source": [
    "obj_bear.eats()"
   ]
  },
  {
   "cell_type": "code",
   "execution_count": 74,
   "id": "86df3ef3-f4e5-41bd-8315-899198b7b784",
   "metadata": {},
   "outputs": [
    {
     "data": {
      "text/plain": [
       "'clover'"
      ]
     },
     "execution_count": 74,
     "metadata": {},
     "output_type": "execute_result"
    }
   ],
   "source": [
    "obj_rabb.eats()"
   ]
  },
  {
   "cell_type": "code",
   "execution_count": 75,
   "id": "9c444f41-b7f9-4911-a6eb-2f7cbe02d14c",
   "metadata": {},
   "outputs": [
    {
     "data": {
      "text/plain": [
       "'campers'"
      ]
     },
     "execution_count": 75,
     "metadata": {},
     "output_type": "execute_result"
    }
   ],
   "source": [
    "obj_octo.eats()"
   ]
  },
  {
   "cell_type": "markdown",
   "id": "731d4135-eff8-4382-a4f9-fc37b4532dd6",
   "metadata": {},
   "source": [
    "# 10. Define these classes: Laser, Claw, and SmartPhone. Each has only one method: does(). This eturns &#39;disintegrate&#39; (Laser), &#39;crush&#39; (Claw), or &#39;ring&#39; (SmartPhone). Then, define the class Robot that as one instance (object) of each of these. Define a does() method for the Robot that prints what its omponent objects do."
   ]
  },
  {
   "cell_type": "code",
   "execution_count": 77,
   "id": "84297b5d-e1c5-45f0-bce9-7bad662ea87d",
   "metadata": {},
   "outputs": [],
   "source": [
    "class Laser:\n",
    "    def does(self):\n",
    "        return 'disintegrate'\n",
    "    \n",
    "class Claw:\n",
    "    def does(self):\n",
    "        return 'crush'\n",
    "    \n",
    "class SmartPhone:\n",
    "    def does(self):\n",
    "        return 'ring'"
   ]
  },
  {
   "cell_type": "code",
   "execution_count": 85,
   "id": "e865b845-e311-4e24-b22f-9f99e546396f",
   "metadata": {},
   "outputs": [],
   "source": [
    "class Robot:\n",
    "    def __init__(self):\n",
    "        self.lasObj = Laser()\n",
    "        self.ClaObj = Claw()\n",
    "        self.SPhObj = SmartPhone()\n",
    "    def does(self):\n",
    "        return f\"Laser : {self.lasObj.does()}, Claw : {self.ClaObj.does()}, SmartPhone : {self.ClaObj.does()}\""
   ]
  },
  {
   "cell_type": "code",
   "execution_count": 86,
   "id": "d335af17-c4a1-4639-b54e-187fe130c2dc",
   "metadata": {},
   "outputs": [],
   "source": [
    "RobObject = Robot()"
   ]
  },
  {
   "cell_type": "code",
   "execution_count": 87,
   "id": "b925c352-c886-48f8-a3b0-1ad4cbaac392",
   "metadata": {},
   "outputs": [
    {
     "name": "stdout",
     "output_type": "stream",
     "text": [
      "Laser : disintegrate, Claw : crush, SmartPhone : crush\n"
     ]
    }
   ],
   "source": [
    "print(RobObject.does())"
   ]
  },
  {
   "cell_type": "code",
   "execution_count": null,
   "id": "4d1fbcb7-c99c-47a8-8e54-fc093a42a2ec",
   "metadata": {},
   "outputs": [],
   "source": []
  }
 ],
 "metadata": {
  "kernelspec": {
   "display_name": "Python 3 (ipykernel)",
   "language": "python",
   "name": "python3"
  },
  "language_info": {
   "codemirror_mode": {
    "name": "ipython",
    "version": 3
   },
   "file_extension": ".py",
   "mimetype": "text/x-python",
   "name": "python",
   "nbconvert_exporter": "python",
   "pygments_lexer": "ipython3",
   "version": "3.10.6"
  }
 },
 "nbformat": 4,
 "nbformat_minor": 5
}
