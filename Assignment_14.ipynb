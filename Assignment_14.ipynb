{
 "cells": [
  {
   "cell_type": "markdown",
   "id": "aec4937e-a44e-4610-9106-cd41dcaeb1b6",
   "metadata": {},
   "source": [
    "# 1. What does RGBA stand for?\n"
   ]
  },
  {
   "cell_type": "markdown",
   "id": "580308d1-6342-48d0-94b8-7aae6c7bc910",
   "metadata": {},
   "source": [
    "#### RGBA stands for Red, Green, Blue, and Alpha. It is a color model used in computer graphics to represent colors. In the RGBA model, each color is represented by a value between 0 and 255, and the alpha value represents the transparency of the color."
   ]
  },
  {
   "cell_type": "markdown",
   "id": "d6da91d3-d161-41b5-aa18-e04a3a73a753",
   "metadata": {},
   "source": [
    "# 2. From the Pillow module, how do you get the RGBA value of any images?\n"
   ]
  },
  {
   "cell_type": "markdown",
   "id": "b1c2da52-897f-4961-8243-b7d7dbf1fce5",
   "metadata": {},
   "source": [
    "#### To get the RGBA (red, green, blue, alpha) value of any image using the Pillow module in Python, you can use the getpixel() method of the Image object"
   ]
  },
  {
   "cell_type": "code",
   "execution_count": 23,
   "id": "501e8f9e-85c0-47d2-a2a8-f651e075b34e",
   "metadata": {},
   "outputs": [
    {
     "name": "stdout",
     "output_type": "stream",
     "text": [
      "(241, 241, 241)\n"
     ]
    }
   ],
   "source": [
    "from PIL import Image\n",
    "\n",
    "# Open an image file\n",
    "img = Image.open(\"symbology-of-the-number-of-roses-in-a-bouquet-verdissimo.jpg\")\n",
    "\n",
    "# Get the pixel value at (x=10, y=20)\n",
    "pixel_value = img.getpixel((10, 20))\n",
    "\n",
    "# Print the RGBA value\n",
    "print(pixel_value)"
   ]
  },
  {
   "cell_type": "markdown",
   "id": "9ca3ac95-e9f4-426f-8acc-91b2ee7ed335",
   "metadata": {},
   "source": [
    "# 3. What is a box tuple, and how does it work?\n"
   ]
  },
  {
   "cell_type": "markdown",
   "id": "4ed1bc86-acde-46cb-98cd-718541a831f3",
   "metadata": {},
   "source": [
    "#### In Pillow, a box tuple is a tuple with four integer values that represents a rectangular region in an image. The values are typically (left, upper, right, lower) coordinates of the region. The origin (0, 0) is the top-left corner of the image. The box tuple is used to specify the region of the image to be manipulated or processed. For example, you can crop an image by using the crop() method with a box tuple argument that specifies the region to be cropped.box = (100, 100, 200, 200)\n"
   ]
  },
  {
   "cell_type": "markdown",
   "id": "861079ee-1bef-425c-8722-59676eadb717",
   "metadata": {},
   "source": [
    "# 4. Use your image and load in notebook then, How can you find out the width and height of an Image object?\n"
   ]
  },
  {
   "cell_type": "markdown",
   "id": "f4b998db-2388-4645-95af-dc81dca640de",
   "metadata": {},
   "source": [
    "#### To find out the width and height of an Image object using the Pillow module in Python, we can use the size attribute of the Image object. "
   ]
  },
  {
   "cell_type": "code",
   "execution_count": 28,
   "id": "aaa293ff-3ba6-4fa2-9b91-6f4f0e4af49a",
   "metadata": {},
   "outputs": [
    {
     "name": "stdout",
     "output_type": "stream",
     "text": [
      "Width: 780\n",
      "Height: 350\n"
     ]
    }
   ],
   "source": [
    "from PIL import Image\n",
    "\n",
    "# Open the image file\n",
    "image = Image.open('symbology-of-the-number-of-roses-in-a-bouquet-verdissimo.jpg')\n",
    "\n",
    "# Get the size of the image in pixels\n",
    "width, height = image.size\n",
    "\n",
    "# Print the width and height in pixels\n",
    "print('Width:', width)\n",
    "print('Height:', height)"
   ]
  },
  {
   "cell_type": "markdown",
   "id": "f7561d1c-f787-46a0-b1ad-931f59637160",
   "metadata": {},
   "source": [
    "# 5. What method would you call to get Image object for a 100×100 image, excluding the lower-left quarter of it?\n"
   ]
  },
  {
   "cell_type": "markdown",
   "id": "fed77762-df7b-4996-9f75-d329198bd609",
   "metadata": {},
   "source": [
    "#### To get an Image object for a 100×100 image, excluding the lower-left quarter of it, you can use the crop() method of the Image object."
   ]
  },
  {
   "cell_type": "markdown",
   "id": "24c1a021-9922-47af-8503-471c850cc69f",
   "metadata": {},
   "source": [
    "# 6. After making changes to an Image object, how could you save it as an image file?\n"
   ]
  },
  {
   "cell_type": "markdown",
   "id": "df0c24a1-2efe-4027-b25d-c13ad269d917",
   "metadata": {},
   "source": [
    "#### After making changes to an Image object, you can save it as an image file using the \"save()\" method. The \"save()\" method takes the filename as the first argument and the format of the image as the second argument. "
   ]
  },
  {
   "cell_type": "code",
   "execution_count": 46,
   "id": "611766a4-0945-4fc3-aafc-8ffb7d9f02ee",
   "metadata": {},
   "outputs": [
    {
     "name": "stderr",
     "output_type": "stream",
     "text": [
      "/tmp/ipykernel_883/1544640222.py:10: DeprecationWarning: TRANSPOSE is deprecated and will be removed in Pillow 10 (2023-07-01). Use Transpose.TRANSPOSE instead.\n",
      "  im = im.transpose(Image.TRANSPOSE)\n"
     ]
    }
   ],
   "source": [
    "from PIL import Image\n",
    "\n",
    "# Open the image file\n",
    "im = Image.open('symbology-of-the-number-of-roses-in-a-bouquet-verdissimo.jpg')\n",
    "\n",
    "# Resize the image to half its original size\n",
    "width, height = im.size\n",
    "im = im.resize((width // 2, height // 2))\n",
    "\n",
    "im = im.transpose(Image.TRANSPOSE)\n",
    "\n",
    "# Save the modified image as a new file\n",
    "im.save('roses.jpg', 'JPEG')"
   ]
  },
  {
   "cell_type": "markdown",
   "id": "c492afeb-efa9-48b1-af46-cd950d6283db",
   "metadata": {},
   "source": [
    "# 7. What module contains Pillow’s shape-drawing code?\n"
   ]
  },
  {
   "cell_type": "markdown",
   "id": "724d1308-3b58-49f0-880d-ad7dff0719b1",
   "metadata": {},
   "source": [
    "#### The \"ImageDraw\" module contains Pillow's shape-drawing code."
   ]
  },
  {
   "cell_type": "code",
   "execution_count": 53,
   "id": "5ee9c4f6-7f92-40b9-93c1-70851eff0c3d",
   "metadata": {},
   "outputs": [],
   "source": [
    "from PIL import Image, ImageDraw\n",
    "\n",
    "# Open an image file\n",
    "image = Image.open(\"flower-1.jpg\")\n",
    "\n",
    "# Create a drawing object\n",
    "draw = ImageDraw.Draw(image)\n",
    "\n",
    "# Draw a rectangle on the image\n",
    "draw.rectangle((100, 100, 250, 250), outline=\"red\")\n",
    "\n",
    "# Save the modified image\n",
    "image.save(\"pillow_shape_draw.jpg\")"
   ]
  },
  {
   "cell_type": "markdown",
   "id": "ea86a785-2cc3-4a24-99e9-9861ff5fe9e7",
   "metadata": {},
   "source": [
    "# 8. Image objects do not have drawing methods. What kind of object does? How do you get this kind of object?"
   ]
  },
  {
   "cell_type": "markdown",
   "id": "02ff81db-851f-4e83-889c-c5f9f3c75122",
   "metadata": {},
   "source": [
    "#### The ImageDraw module in the Pillow library provides drawing methods for Image objects. To get an ImageDraw object for an Image object named image, you can use the ImageDraw.Draw() method and pass in the Image object as an argument."
   ]
  },
  {
   "cell_type": "code",
   "execution_count": 61,
   "id": "64a2f740-9bbc-4595-8d6a-baa83bff7d7e",
   "metadata": {},
   "outputs": [],
   "source": [
    "from PIL import Image, ImageDraw\n",
    "\n",
    "# Open an image file\n",
    "image = Image.open('car.jpg')\n",
    "\n",
    "# Get an ImageDraw object for the image\n",
    "draw = ImageDraw.Draw(image)\n",
    "\n",
    "# Use the ImageDraw object to draw shapes or text on the image\n",
    "draw.rectangle((50, 50, 100, 100), fill='blue')\n",
    "draw.text((120, 50), 'Hello, Pillow!', fill='blue')\n",
    "\n",
    "# Save the modified image\n",
    "image.save('new_car.png')"
   ]
  },
  {
   "cell_type": "code",
   "execution_count": null,
   "id": "380a4453-20d4-45a7-aca3-2936ec93653e",
   "metadata": {},
   "outputs": [],
   "source": []
  }
 ],
 "metadata": {
  "kernelspec": {
   "display_name": "Python 3 (ipykernel)",
   "language": "python",
   "name": "python3"
  },
  "language_info": {
   "codemirror_mode": {
    "name": "ipython",
    "version": 3
   },
   "file_extension": ".py",
   "mimetype": "text/x-python",
   "name": "python",
   "nbconvert_exporter": "python",
   "pygments_lexer": "ipython3",
   "version": "3.10.6"
  }
 },
 "nbformat": 4,
 "nbformat_minor": 5
}
